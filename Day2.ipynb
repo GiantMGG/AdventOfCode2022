{
 "cells": [
  {
   "cell_type": "code",
   "execution_count": 11,
   "metadata": {},
   "outputs": [],
   "source": [
    "pathToFile = './Input/'\n",
    "fileName = 'day-2-A.txt'\n",
    "dictGameScore = {'AX':3,'AY':6,'AZ':0,'BX':0,'BY':3,'BZ':6,'CX':6,'CY':0,'CZ':3}\n",
    "dictStrategyScore = {'X':1,'Y':2,'Z':3}\n",
    "with open(pathToFile + fileName) as datei:\n",
    "    lines = datei.readlines()"
   ]
  },
  {
   "cell_type": "code",
   "execution_count": 31,
   "metadata": {},
   "outputs": [
    {
     "name": "stdout",
     "output_type": "stream",
     "text": [
      "2500\n",
      "13221\n"
     ]
    }
   ],
   "source": [
    "def evalGame(strategy):\n",
    "    Game = strategy[0:].strip().replace(' ','')\n",
    "    strategy = strategy.strip()[-1]\n",
    "    gameScore = dictGameScore[Game]\n",
    "    strategyScore = dictStrategyScore[strategy]\n",
    "    return gameScore + strategyScore\n",
    "\n",
    "score = [evalGame(line) for line in lines]\n",
    "print(len(score))\n",
    "print(sum(score))\n",
    "\n",
    "    "
   ]
  },
  {
   "cell_type": "code",
   "execution_count": null,
   "metadata": {},
   "outputs": [],
   "source": []
  }
 ],
 "metadata": {
  "kernelspec": {
   "display_name": "Python 3.10.0 ('pyenv')",
   "language": "python",
   "name": "python3"
  },
  "language_info": {
   "codemirror_mode": {
    "name": "ipython",
    "version": 3
   },
   "file_extension": ".py",
   "mimetype": "text/x-python",
   "name": "python",
   "nbconvert_exporter": "python",
   "pygments_lexer": "ipython3",
   "version": "3.10.0"
  },
  "orig_nbformat": 4,
  "vscode": {
   "interpreter": {
    "hash": "d0c3d4aaaf6ccd9e3fef41017d298d05c7cebe4005ad2bf55ceed44b42e0013b"
   }
  }
 },
 "nbformat": 4,
 "nbformat_minor": 2
}
