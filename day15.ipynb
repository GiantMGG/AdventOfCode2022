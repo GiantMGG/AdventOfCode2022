{
 "cells": [
  {
   "cell_type": "code",
   "execution_count": null,
   "metadata": {},
   "outputs": [],
   "source": [
    "import re\n",
    "from typing import Tuple\n",
    "import numpy as np\n",
    "from SolvingAdvent.HelferWichtel import HelferWichtel as Wichtel\n",
    "from IPython.display import clear_output\n",
    "import time\n",
    "import math\n",
    "\n",
    "TagFile = '12Test'\n",
    "\n",
    "\n",
    "Helfer = Wichtel()\n",
    "PuzzleInput = Helfer.getPuzzleInput(TagFile)\n",
    "PuzzleInput = [line.replace('\\n','').strip() for line in PuzzleInput]\n"
   ]
  }
 ],
 "metadata": {
  "kernelspec": {
   "display_name": "pyenv",
   "language": "python",
   "name": "python3"
  },
  "language_info": {
   "name": "python",
   "version": "3.10.0 (tags/v3.10.0:b494f59, Oct  4 2021, 19:00:18) [MSC v.1929 64 bit (AMD64)]"
  },
  "orig_nbformat": 4,
  "vscode": {
   "interpreter": {
    "hash": "d0c3d4aaaf6ccd9e3fef41017d298d05c7cebe4005ad2bf55ceed44b42e0013b"
   }
  }
 },
 "nbformat": 4,
 "nbformat_minor": 2
}
