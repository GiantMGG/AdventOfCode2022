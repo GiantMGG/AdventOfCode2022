{
 "cells": [
  {
   "cell_type": "code",
   "execution_count": 88,
   "metadata": {},
   "outputs": [],
   "source": [
    "pathToInput = './Input/'\n",
    "pathToFile = 'day02.txt'"
   ]
  },
  {
   "cell_type": "code",
   "execution_count": 89,
   "metadata": {},
   "outputs": [
    {
     "name": "stdout",
     "output_type": "stream",
     "text": [
      "2\n"
     ]
    }
   ],
   "source": [
    "with open(pathToInput + pathToFile) as file:\n",
    "    lines = file.readlines()\n",
    "lines = [line.strip().replace(' ','') for line in lines]\n",
    "print(len(lines[2]))"
   ]
  },
  {
   "cell_type": "code",
   "execution_count": 90,
   "metadata": {},
   "outputs": [
    {
     "name": "stdout",
     "output_type": "stream",
     "text": [
      "13221\n"
     ]
    }
   ],
   "source": [
    "dictGameScore = {'RR':3,'RP':6,'RS':0,'PR':0,'PP':3,'PS':6,'SR':6,'SP':0,'SS':3}\n",
    "dictStrategyScore = {'R':1,'P':2,'S':3}\n",
    "dictOpponentStrategyCode = {'A':'R','B':'P','C':'S'}\n",
    "dictMeStrategyCode = {'X':'R','Y':'P','Z':'S'}\n",
    "\n",
    "def convertGamesA(lines):\n",
    "    games = [dictOpponentStrategyCode[line[0]] + dictMeStrategyCode[line[1]] for line in lines]\n",
    "    return games\n",
    "\n",
    "games = convertGamesA(lines)\n",
    "scores = [dictGameScore[game]+dictStrategyScore[game[1]] for game in games]\n",
    "print(sum(scores))"
   ]
  },
  {
   "cell_type": "code",
   "execution_count": 106,
   "metadata": {},
   "outputs": [],
   "source": [
    "def convertGamesB(lines):\n",
    "    games = [dictOpponentStrategyCode[line[0]] + line[1] for line in lines]\n",
    "    return games\n",
    "\n",
    "games = convertGamesB(lines)\n",
    "\n",
    "class Game():\n",
    "    def __init__(self):\n",
    "        self.dictStrategyScore = {'R':1,'P':2,'S':3}\n",
    "        self.dictGameScore = {'RR':3,'RP':6,'RS':0,'PR':0,'PP':3,'PS':6,'SR':6,'SP':0,'SS':3}\n",
    "        self.dictMeSecretCode = {'X':0,'Y':3,'Z':6}\n",
    "        return\n",
    "\n",
    "    def findSecretStrategy(self, secretListEntry):\n",
    "        for play, score in self.dictGameScore.items():\n",
    "            if score == self.dictMeSecretCode[secretListEntry[1]] and play[0] == secretListEntry[0] :\n",
    "                return secretListEntry[0]+play[1]\n",
    "\n",
    "    def evaluateGameScore(self):\n",
    "        return"
   ]
  },
  {
   "cell_type": "code",
   "execution_count": 119,
   "metadata": {},
   "outputs": [
    {
     "name": "stdout",
     "output_type": "stream",
     "text": [
      "13131\n"
     ]
    }
   ],
   "source": [
    "Spiel = Game()\n",
    "Spiel.findSecretStrategy('PZ')\n",
    "\n",
    "spiele = [Spiel.findSecretStrategy(game) for game in games]\n",
    "scores = [dictGameScore[game]+dictStrategyScore[game[1]] for game in spiele]\n",
    "print(sum(scores))"
   ]
  },
  {
   "cell_type": "code",
   "execution_count": null,
   "metadata": {},
   "outputs": [],
   "source": []
  },
  {
   "cell_type": "code",
   "execution_count": null,
   "metadata": {},
   "outputs": [],
   "source": []
  }
 ],
 "metadata": {
  "kernelspec": {
   "display_name": "Python 3",
   "language": "python",
   "name": "python3"
  },
  "language_info": {
   "codemirror_mode": {
    "name": "ipython",
    "version": 3
   },
   "file_extension": ".py",
   "mimetype": "text/x-python",
   "name": "python",
   "nbconvert_exporter": "python",
   "pygments_lexer": "ipython3",
   "version": "3.11.1 (tags/v3.11.1:a7a450f, Dec  6 2022, 19:58:39) [MSC v.1934 64 bit (AMD64)]"
  },
  "orig_nbformat": 4,
  "vscode": {
   "interpreter": {
    "hash": "a430bdd78cabb0319c021e4bed8a7f8a17d1ee4cfda3ab2cdd64c9dbb9e027b6"
   }
  }
 },
 "nbformat": 4,
 "nbformat_minor": 2
}
