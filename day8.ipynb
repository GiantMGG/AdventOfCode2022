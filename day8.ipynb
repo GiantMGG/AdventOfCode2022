{
 "cells": [
  {
   "cell_type": "code",
   "execution_count": 101,
   "metadata": {},
   "outputs": [],
   "source": [
    "import re\n",
    "from SolvingAdvent.HelferWichtel import HelferWichtel as Wichtel\n",
    "\n",
    "TagFile = '08'\n",
    "\n",
    "\n",
    "Helfer = Wichtel()\n",
    "PuzzleInput = ''.join(Helfer.getPuzzleInput(TagFile))\n",
    "PuzzleInput = PuzzleInput.split('\\n')"
   ]
  },
  {
   "cell_type": "code",
   "execution_count": 102,
   "metadata": {},
   "outputs": [],
   "source": [
    "class Wald:\n",
    "    def __init__(self,Wald:list[str]):\n",
    "        self.Wald = Wald\n",
    "        self.waldGroesse = len(Wald)\n",
    "        print('Wald Größe ist: %s' %(self.waldGroesse))\n",
    "        \n",
    "    def getWald(self) -> 'Wald':\n",
    "        return self.Wald\n",
    "    \n",
    "    def getRow(self,rowNumber:int) -> str:\n",
    "        '''start with row number 0'''\n",
    "        Wald = self.getWald()\n",
    "        row = (Wald[rowNumber])\n",
    "        return row\n",
    "    \n",
    "    def getColumn(self,columnNumber:int) -> str:\n",
    "        '''start with column number 0'''\n",
    "        Wald = self.getWald()\n",
    "        column = []\n",
    "        for row in self.getWald():\n",
    "            column.append(row[columnNumber])\n",
    "        return ''.join(column)\n",
    "    \n",
    "    def checkVisibilityOfTree(self,numberRow:int,numberColumn:int):\n",
    "        visibility = True\n",
    "        if any([numberRow == 0, numberRow == self.waldGroesse-1, numberColumn == 0, numberColumn == self.waldGroesse-1]):\n",
    "            visibility = True\n",
    "            return visibility\n",
    "        rowOfTrees = self.getRow(numberRow)\n",
    "        columnOfTrees = self.getColumn(numberColumn)\n",
    "        rowLeft = rowOfTrees[0:numberColumn]\n",
    "        rowRight = rowOfTrees[numberColumn+1:]\n",
    "        columnUp = columnOfTrees[0:numberRow]\n",
    "        columnDown = columnOfTrees[numberRow+1:]\n",
    "        tree = columnOfTrees[numberRow]\n",
    "        # print('left:%s, right:%s, up:%s, down:%s'%(rowLeft,rowRight,columnUp,columnDown))\n",
    "        # for row in [rowLeft,rowRight,columnUp,columnDown]:\n",
    "            # for otherTree in row:\n",
    "                # print('Vergleiche tree: %s <= otherTree:%s - Ergebnis = %s' %(tree,otherTree,int(tree) <= int(otherTree)))\n",
    "        # print( [any([int(tree)<= int(otherTree) for otherTree in row]) for row in [rowLeft, rowRight, columnUp, columnDown]] )\n",
    "        if all([any([int(tree)<= int(otherTree) for otherTree in row]) for row in [rowLeft, rowRight, columnUp, columnDown]]):\n",
    "            visibility = False\n",
    "        return visibility\n",
    "    \n",
    "    def smallerThanOtherTrees(self,tree,otherTrees):\n",
    "        '''check if tree is smaller or equal to all other given trees'''\n",
    "        \n",
    "    def getVisibilityMap(self):\n",
    "        visibilityMap = []\n",
    "        for rowNumber,row in enumerate(self.Wald):\n",
    "            visibilityRow = []\n",
    "            for treeNumber,tree in enumerate(row):\n",
    "                visibility = self.checkVisibilityOfTree(rowNumber,treeNumber)\n",
    "                visibilityRow.append(visibility)\n",
    "            visibilityMap.append(visibilityRow)\n",
    "        self.visibilityMap = visibilityMap\n",
    "        return visibilityMap\n",
    "    \n",
    "    def getScenicScore(self,numberRow:int,numberColumn:int):\n",
    "        score = 0\n",
    "        rowOfTrees = self.getRow(numberRow)\n",
    "        columnOfTrees = self.getColumn(numberColumn)\n",
    "        rowLeft = rowOfTrees[0:numberColumn]\n",
    "        rowRight = rowOfTrees[numberColumn+1:]\n",
    "        columnUp = columnOfTrees[0:numberRow]\n",
    "        columnDown = columnOfTrees[numberRow+1:]\n",
    "        tree = columnOfTrees[numberRow]\n",
    "        distances = []\n",
    "        for line in [rowLeft[::-1], rowRight, columnUp[::-1], columnDown]:\n",
    "            distance = 0\n",
    "            for treeNumber,otherTree in enumerate(line):\n",
    "                distance +=1\n",
    "                if tree <= otherTree:\n",
    "                    break\n",
    "            distances.append(distance)\n",
    "        score = 1\n",
    "        for direction in distances:\n",
    "            score *= direction\n",
    "        return score\n",
    "            \n",
    "    def getScenicScoreMap(self):\n",
    "        scenicMap = []\n",
    "        for rowNumber,row in enumerate(self.Wald):\n",
    "            scoreRow = []\n",
    "            for treeNumber,tree in enumerate(row):\n",
    "                score = self.getScenicScore(rowNumber,treeNumber)\n",
    "                scoreRow.append(score)\n",
    "            scenicMap.append(scoreRow)\n",
    "        self.scenicMap = scenicMap\n",
    "        return scenicMap\n",
    "        "
   ]
  },
  {
   "cell_type": "code",
   "execution_count": 103,
   "metadata": {},
   "outputs": [
    {
     "name": "stdout",
     "output_type": "stream",
     "text": [
      "Wald Größe ist: 99\n",
      "Aufgabe 08A: 1849\n"
     ]
    }
   ],
   "source": [
    "derWald = Wald(PuzzleInput)\n",
    "Spalte1 = derWald.getColumn(1)\n",
    "visibiltyMap = derWald.getVisibilityMap()\n",
    "# print(*PuzzleInput,sep='\\n')\n",
    "# print(*visibiltyMap,sep='\\n')\n",
    "print('Aufgabe 08A: %s' %(len([tree for tree in [i for j in visibiltyMap for i in j] if tree])))"
   ]
  },
  {
   "cell_type": "code",
   "execution_count": 105,
   "metadata": {},
   "outputs": [
    {
     "name": "stdout",
     "output_type": "stream",
     "text": [
      "201600\n"
     ]
    }
   ],
   "source": [
    "# Aufgabe B\n",
    "scoreMap = derWald.getScenicScoreMap()\n",
    "# print(scoreMap)\n",
    "print(max([score for line in scoreMap for score in line]))"
   ]
  },
  {
   "cell_type": "code",
   "execution_count": null,
   "metadata": {},
   "outputs": [],
   "source": []
  }
 ],
 "metadata": {
  "kernelspec": {
   "display_name": "pyenv",
   "language": "python",
   "name": "python3"
  },
  "language_info": {
   "codemirror_mode": {
    "name": "ipython",
    "version": 3
   },
   "file_extension": ".py",
   "mimetype": "text/x-python",
   "name": "python",
   "nbconvert_exporter": "python",
   "pygments_lexer": "ipython3",
   "version": "3.10.0"
  },
  "orig_nbformat": 4,
  "vscode": {
   "interpreter": {
    "hash": "d0c3d4aaaf6ccd9e3fef41017d298d05c7cebe4005ad2bf55ceed44b42e0013b"
   }
  }
 },
 "nbformat": 4,
 "nbformat_minor": 2
}
