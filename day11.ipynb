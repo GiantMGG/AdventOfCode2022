{
 "cells": [
  {
   "cell_type": "code",
   "execution_count": 15,
   "metadata": {},
   "outputs": [
    {
     "name": "stdout",
     "output_type": "stream",
     "text": [
      "['Monkey 0:', 'Starting items: 72, 64, 51, 57, 93, 97, 68', 'Operation: new = old * 19', 'Test: divisible by 17', 'If true: throw to monkey 4', 'If false: throw to monkey 7', '', 'Monkey 1:', 'Starting items: 62', 'Operation: new = old * 11', 'Test: divisible by 3', 'If true: throw to monkey 3', 'If false: throw to monkey 2', '', 'Monkey 2:', 'Starting items: 57, 94, 69, 79, 72', 'Operation: new = old + 6', 'Test: divisible by 19', 'If true: throw to monkey 0', 'If false: throw to monkey 4', '', 'Monkey 3:', 'Starting items: 80, 64, 92, 93, 64, 56', 'Operation: new = old + 5', 'Test: divisible by 7', 'If true: throw to monkey 2', 'If false: throw to monkey 0', '', 'Monkey 4:', 'Starting items: 70, 88, 95, 99, 78, 72, 65, 94', 'Operation: new = old + 7', 'Test: divisible by 2', 'If true: throw to monkey 7', 'If false: throw to monkey 5', '', 'Monkey 5:', 'Starting items: 57, 95, 81, 61', 'Operation: new = old * old', 'Test: divisible by 5', 'If true: throw to monkey 1', 'If false: throw to monkey 6', '', 'Monkey 6:', 'Starting items: 79, 99', 'Operation: new = old + 2', 'Test: divisible by 11', 'If true: throw to monkey 3', 'If false: throw to monkey 1', '', 'Monkey 7:', 'Starting items: 68, 98, 62', 'Operation: new = old + 3', 'Test: divisible by 13', 'If true: throw to monkey 5', 'If false: throw to monkey 6']\n"
     ]
    }
   ],
   "source": [
    "import re\n",
    "from typing import Tuple\n",
    "import numpy as np\n",
    "from SolvingAdvent.HelferWichtel import HelferWichtel as Wichtel\n",
    "from IPython.display import clear_output\n",
    "import time\n",
    "import math\n",
    "\n",
    "TagFile = '11'\n",
    "\n",
    "\n",
    "Helfer = Wichtel()\n",
    "PuzzleInput = Helfer.getPuzzleInput(TagFile)\n",
    "PuzzleInput = [line.replace('\\n','').strip() for line in PuzzleInput]\n",
    "print(PuzzleInput)"
   ]
  },
  {
   "cell_type": "code",
   "execution_count": 16,
   "metadata": {},
   "outputs": [],
   "source": [
    "class InputParser:\n",
    "    def __init__(self):\n",
    "        return\n",
    "    \n",
    "    def eatPuzzleInput(self, Input):\n",
    "        '''Gibt jeden Monkey als gesamten String zurück'''\n",
    "        inputString = ''.join(Input)\n",
    "        a = re.finditer('Monkey \\d+:',inputString)\n",
    "        startPoints =[]\n",
    "        for c in a:\n",
    "            startPoints.append(c.start())\n",
    "        startPoints.append(len(inputString))\n",
    "        monkeyStrings=[]\n",
    "        for e in range(0,len(startPoints)-1):\n",
    "            monkeyStrings.append(inputString[startPoints[e]:startPoints[e+1]])\n",
    "        return monkeyStrings\n",
    "        \n",
    "    def monkeyParser(self,monkeyString):\n",
    "        indizesItems = re.search('Starting items:',monkeyString).span()\n",
    "        indizesOperation = re.search('Operation:', monkeyString).span()\n",
    "        indizesTest = re.search('Test:',monkeyString).span()\n",
    "        items = monkeyString[indizesItems[1]: indizesOperation[0]]\n",
    "        operation =monkeyString[indizesOperation[1]:indizesTest[0]]\n",
    "        test = monkeyString[indizesTest[1]:]\n",
    "        itemList = [int(item.strip()) for item in items.split(',')]\n",
    "        operation = re.search(r'[+*] [\\d]{0,3}[old]{0,6}',operation).group()\n",
    "        digitsTest = re.findall('\\d+',test)\n",
    "        testDivisor = int(digitsTest[0])\n",
    "        targetMonkeys = [int(digitsTest[1]), int(digitsTest[2])]\n",
    "        return itemList, operation, testDivisor, targetMonkeys\n",
    "    \n",
    "    def createOperation(self, operand, value):\n",
    "        return\n",
    "\n",
    "class MonkeyGame:\n",
    "    def __init__(self, listofMonkeys: dict[int,'Monkey'] = None):\n",
    "        self.listOfMonkeys = listofMonkeys or {}\n",
    "        self.inputParser = InputParser()\n",
    "        \n",
    "    def setupGame(self, PuzzleInput):\n",
    "        monkeyStrings = self.inputParser.eatPuzzleInput(PuzzleInput)\n",
    "        for n,monkeyString in enumerate(monkeyStrings):\n",
    "            tokens = self.inputParser.monkeyParser(monkeyString)\n",
    "            self.createMonkey(n,tokens[0],tokens[1],tokens[2],tokens[3])\n",
    "        self.maximumWorry = math.prod([self.listOfMonkeys[monkey].testDivisor for monkey in self.listOfMonkeys])\n",
    "        \n",
    "    def createMonkey(self, monkeyNumber:int, startingItems:list[int], operation:str, testDivisor:int, targetMonkeys:list[int]):\n",
    "        self.listOfMonkeys[monkeyNumber] = Monkey(self, startingItems, operation, testDivisor, targetMonkeys)\n",
    "    \n",
    "    def monkeyTurn(self, monkeyNumber):\n",
    "        pass\n",
    "    \n",
    "    def gameRound(self):\n",
    "        for monkey in self.listOfMonkeys:\n",
    "            self.listOfMonkeys[monkey].inspectItems()\n",
    "            \n",
    "    def gameRoundPanic(self):\n",
    "        for monkey in self.listOfMonkeys:\n",
    "            self.listOfMonkeys[monkey].inspectItemsPanic(self.maximumWorry)\n",
    "            \n",
    "    def getListMonkeyInspections(self):\n",
    "        listInspections =[]\n",
    "        for monkey in self.listOfMonkeys:\n",
    "            listInspections.append(self.listOfMonkeys[monkey].getNumberInspections())\n",
    "        return listInspections\n",
    "    \n",
    "    def getMonkeyBusiness(self):\n",
    "        a = sorted(self.getListMonkeyInspections())\n",
    "        return a[-1]*a[-2]\n",
    "    \n",
    "    def monkeyThrow(self, receiver, item):\n",
    "        monkey = self.listOfMonkeys[receiver]\n",
    "        monkey.catchItem(item)\n",
    "    \n",
    "class Monkey:\n",
    "    def __init__(self, game:'MonkeyGame', startingItems:list[int], operation:str, testDivisor:int, targetMonkeys:list[int]):\n",
    "        self.items = startingItems\n",
    "        self.numberInspections = 0\n",
    "        self.ongoingGame = game\n",
    "        self.operation = operation\n",
    "        self.testDivisor = testDivisor\n",
    "        self.targetMonkeys = targetMonkeys    \n",
    "        \n",
    "    def getNumberInspections(self):\n",
    "        return self.numberInspections\n",
    "    \n",
    "    def executeOperation(self, item:int):\n",
    "        if 'old' in self.operation:\n",
    "            value = item\n",
    "        else:\n",
    "            value = int(re.search('\\d+',self.operation).group())\n",
    "        if self.operation[0] == '+':\n",
    "            item += value\n",
    "            return item\n",
    "        if self.operation[0] == '*':\n",
    "            item *= value\n",
    "            return item\n",
    "        else:\n",
    "            raise Exception('Kein gültiger Operand')\n",
    "\n",
    "    def executeTest(self, item:int):\n",
    "        if not bool(item%self.testDivisor):\n",
    "            return self.targetMonkeys[0]\n",
    "        else:\n",
    "            return self.targetMonkeys[1]\n",
    "    \n",
    "    def inspectItems(self):\n",
    "        for item in self.items:\n",
    "            item = self.executeOperation(item)\n",
    "            item = item//3\n",
    "            receiver = self.executeTest(item)\n",
    "            self.throwItem(receiver, item)\n",
    "            self.numberInspections +=1\n",
    "        self.items =[]\n",
    "        \n",
    "    def inspectItemsPanic(self, maximumWorry):\n",
    "        for item in self.items:\n",
    "            item = self.executeOperation(item)\n",
    "            item = item - (item//maximumWorry)*maximumWorry\n",
    "            receiver = self.executeTest(item)\n",
    "            self.throwItem(receiver, item)\n",
    "            self.numberInspections +=1\n",
    "        self.items =[]\n",
    "    \n",
    "    def throwItem(self, receiver:int, item:int):\n",
    "        self.ongoingGame.monkeyThrow(receiver, item)\n",
    "        \n",
    "    def catchItem(self, item):\n",
    "        self.items.append(item)"
   ]
  },
  {
   "cell_type": "code",
   "execution_count": 22,
   "metadata": {},
   "outputs": [
    {
     "name": "stdout",
     "output_type": "stream",
     "text": [
      "Anzahl der geworfenen Items pro Affe:\n",
      "[137, 160, 166, 172, 184, 218, 314, 318]\n",
      "Ergebnis der Aufgabe A: 99852\n"
     ]
    }
   ],
   "source": [
    "# Aufgabe A\n",
    "newGame = MonkeyGame()\n",
    "newGame.setupGame(PuzzleInput)\n",
    "for i in range(20):\n",
    "    newGame.gameRound()\n",
    "print('Anzahl der geworfenen Items pro Affe:\\n%s' %(sorted(newGame.getListMonkeyInspections())))\n",
    "print('Ergebnis der Aufgabe A: %s' %newGame.getMonkeyBusiness())"
   ]
  },
  {
   "cell_type": "code",
   "execution_count": 23,
   "metadata": {},
   "outputs": [
    {
     "name": "stdout",
     "output_type": "stream",
     "text": [
      "Anzahl der geworfenen Items pro Affe:\n",
      "[25869, 27041, 30343, 146733, 155504, 160360, 160567, 161523]\n",
      "Ergebnis der Aufgabe B: 25935263541\n"
     ]
    }
   ],
   "source": [
    "# Aufgabe A\n",
    "newGame = MonkeyGame()\n",
    "newGame.setupGame(PuzzleInput)\n",
    "for i in range(10000):\n",
    "    newGame.gameRoundPanic()\n",
    "print('Anzahl der geworfenen Items pro Affe:\\n%s' %(sorted(newGame.getListMonkeyInspections())))\n",
    "print('Ergebnis der Aufgabe B: %s' %newGame.getMonkeyBusiness())"
   ]
  },
  {
   "cell_type": "code",
   "execution_count": 92,
   "metadata": {},
   "outputs": [],
   "source": [
    "# Class Test\n",
    "newGame = MonkeyGame()\n",
    "newGame.createMonkey(0,[10,20,11],'* 10', 13, [1,2])\n",
    "newGame.createMonkey(1,[10,20,11],'* 10', 13, [2,0])\n",
    "newGame.createMonkey(2,[10,20,11],'* 10', 13, [0,1])\n",
    "newGame.gameRound()"
   ]
  },
  {
   "cell_type": "code",
   "execution_count": 44,
   "metadata": {},
   "outputs": [
    {
     "data": {
      "text/plain": [
       "['* 19']"
      ]
     },
     "execution_count": 44,
     "metadata": {},
     "output_type": "execute_result"
    }
   ],
   "source": [
    "a = PuzzleInput[2]\n",
    "re.findall(r'[+*] \\d+',a)"
   ]
  },
  {
   "cell_type": "code",
   "execution_count": 171,
   "metadata": {},
   "outputs": [
    {
     "name": "stdout",
     "output_type": "stream",
     "text": [
      "Monkey 0:Starting items: 72, 64, 51, 57, 93, 97, 68Operation: new = old * 19Test: divisible by 17If true: throw to monkey 4If false: throw to monkey 7\n",
      "Monkey 1:Starting items: 62Operation: new = old * 11Test: divisible by 3If true: throw to monkey 3If false: throw to monkey 2\n",
      "Monkey 2:Starting items: 57, 94, 69, 79, 72Operation: new = old + 6Test: divisible by 19If true: throw to monkey 0If false: throw to monkey 4\n",
      "Monkey 3:Starting items: 80, 64, 92, 93, 64, 56Operation: new = old + 5Test: divisible by 7If true: throw to monkey 2If false: throw to monkey 0\n",
      "Monkey 4:Starting items: 70, 88, 95, 99, 78, 72, 65, 94Operation: new = old + 7Test: divisible by 2If true: throw to monkey 7If false: throw to monkey 5\n",
      "Monkey 5:Starting items: 57, 95, 81, 61Operation: new = old * oldTest: divisible by 5If true: throw to monkey 1If false: throw to monkey 6\n",
      "Monkey 6:Starting items: 79, 99Operation: new = old + 2Test: divisible by 11If true: throw to monkey 3If false: throw to monkey 1\n",
      "Monkey 7:Starting items: 68, 98, 62Operation: new = old + 3Test: divisible by 13If true: throw to monkey 5If false: throw to monkey 6\n",
      "[4, 7]\n",
      "[3, 2]\n",
      "[0, 4]\n",
      "[2, 0]\n",
      "[7, 5]\n",
      "[1, 6]\n",
      "[3, 1]\n",
      "[5, 6]\n"
     ]
    }
   ],
   "source": [
    "inputString = ''.join(PuzzleInput)\n",
    "b = re.finditer('Monkey \\d+:',inputString)\n",
    "startPoints =[]\n",
    "for c in b:\n",
    "    startPoints.append(c.start())\n",
    "startPoints.append(len(inputString))\n",
    "monkeyStrings=[]\n",
    "for e in range(0,len(startPoints)-1):\n",
    "    monkeyStrings.append(inputString[startPoints[e]:startPoints[e+1]])\n",
    "print('\\n'.join(monkeyStrings))\n",
    "\n",
    "for monkeyString in monkeyStrings:\n",
    "    indizesItems = re.search('Starting items:',monkeyString).span()\n",
    "    indizesOperation = re.search('Operation:', monkeyString).span()\n",
    "    indizesTest = re.search('Test:',monkeyString).span()\n",
    "    items = monkeyString[indizesItems[1]: indizesOperation[0]]\n",
    "    operation =monkeyString[indizesOperation[1]:indizesTest[0]]\n",
    "    test = monkeyString[indizesTest[1]:]\n",
    "    itemList = [int(item.strip()) for item in items.split(',')]\n",
    "    operation = re.search(r'[+*] [\\d+]?[old]{0,6}',operation).group()\n",
    "    digitsTest = re.findall('\\d+',test)\n",
    "    testDivisor = int(digitsTest[0])\n",
    "    targetMonkeys = [int(digitsTest[1]), int(digitsTest[2])]\n",
    "# startIndizes"
   ]
  },
  {
   "cell_type": "code",
   "execution_count": 144,
   "metadata": {},
   "outputs": [
    {
     "ename": "TypeError",
     "evalue": "must be str or None, not list",
     "output_type": "error",
     "traceback": [
      "\u001b[1;31m---------------------------------------------------------------------------\u001b[0m",
      "\u001b[1;31mTypeError\u001b[0m                                 Traceback (most recent call last)",
      "Cell \u001b[1;32mIn[144], line 2\u001b[0m\n\u001b[0;32m      1\u001b[0m a \u001b[39m=\u001b[39m \u001b[39m'\u001b[39m\u001b[39mabcdefg\u001b[39m\u001b[39m'\u001b[39m\n\u001b[1;32m----> 2\u001b[0m \u001b[39mprint\u001b[39m(a\u001b[39m.\u001b[39;49msplit([\u001b[39m'\u001b[39;49m\u001b[39mb\u001b[39;49m\u001b[39m'\u001b[39;49m]))\n",
      "\u001b[1;31mTypeError\u001b[0m: must be str or None, not list"
     ]
    }
   ],
   "source": [
    "a = 'abcdefg'\n",
    "a.s\n",
    "print(a.split(['b']))"
   ]
  },
  {
   "cell_type": "code",
   "execution_count": 58,
   "metadata": {},
   "outputs": [
    {
     "name": "stdout",
     "output_type": "stream",
     "text": [
      "{0: 'Null'}\n",
      "{0: 'Null', 1: 'Eins'}\n",
      "Null\n"
     ]
    }
   ],
   "source": [
    "b = {}\n",
    "c = {0:'Null'}\n",
    "print(c)\n",
    "c[1] = 'Eins'\n",
    "print(c)\n",
    "print(c[0])\n",
    "\n"
   ]
  },
  {
   "cell_type": "code",
   "execution_count": 64,
   "metadata": {},
   "outputs": [
    {
     "name": "stdout",
     "output_type": "stream",
     "text": [
      "[1, 2, 3]\n",
      "[1, 5, 3]\n"
     ]
    }
   ],
   "source": [
    "a = [1,2,3]\n",
    "print(a)\n",
    "a[1] = 5\n",
    "print(a)"
   ]
  },
  {
   "cell_type": "code",
   "execution_count": 70,
   "metadata": {},
   "outputs": [
    {
     "name": "stdout",
     "output_type": "stream",
     "text": [
      "{1: <__main__.MonkeyGame object at 0x000001375C86A0E0>}\n"
     ]
    }
   ],
   "source": [
    "c = {}\n",
    "c[1] = MonkeyGame()\n",
    "print(c)"
   ]
  },
  {
   "cell_type": "code",
   "execution_count": 172,
   "metadata": {},
   "outputs": [
    {
     "data": {
      "text/plain": [
       "True"
      ]
     },
     "execution_count": 172,
     "metadata": {},
     "output_type": "execute_result"
    }
   ],
   "source": [
    "'old' in 'asdsdold'"
   ]
  },
  {
   "cell_type": "code",
   "execution_count": null,
   "metadata": {},
   "outputs": [],
   "source": []
  }
 ],
 "metadata": {
  "kernelspec": {
   "display_name": "pyenv",
   "language": "python",
   "name": "python3"
  },
  "language_info": {
   "codemirror_mode": {
    "name": "ipython",
    "version": 3
   },
   "file_extension": ".py",
   "mimetype": "text/x-python",
   "name": "python",
   "nbconvert_exporter": "python",
   "pygments_lexer": "ipython3",
   "version": "3.10.0"
  },
  "orig_nbformat": 4,
  "vscode": {
   "interpreter": {
    "hash": "d0c3d4aaaf6ccd9e3fef41017d298d05c7cebe4005ad2bf55ceed44b42e0013b"
   }
  }
 },
 "nbformat": 4,
 "nbformat_minor": 2
}
