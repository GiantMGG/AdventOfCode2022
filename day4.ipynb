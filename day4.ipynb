{
 "cells": [
  {
   "cell_type": "code",
   "execution_count": 25,
   "metadata": {},
   "outputs": [],
   "source": [
    "from SolvingAdvent.HelferWichtel import HelferWichtel as Wichtel\n",
    "\n",
    "TAG = '04'\n",
    "\n",
    "Helfer = Wichtel()\n",
    "PuzzleInput = Helfer.getPuzzleInput(TAG)"
   ]
  },
  {
   "cell_type": "code",
   "execution_count": 26,
   "metadata": {},
   "outputs": [
    {
     "name": "stdout",
     "output_type": "stream",
     "text": [
      "[[13, 14, 15, 16, 17, 18, 19, 20, 21, 22, 23, 24, 25, 26, 27, 28, 29, 30, 31, 32, 33, 34, 35, 36, 37, 38, 39, 40, 41, 42, 43, 44, 45, 46, 47, 48, 49, 50, 51, 52, 53], [17, 18, 19, 20, 21, 22, 23, 24, 25, 26, 27, 28, 29, 30, 31, 32, 33, 34, 35, 36, 37, 38, 39, 40, 41, 42, 43, 44, 45, 46, 47, 48, 49, 50, 51, 52, 53, 54, 55, 56, 57, 58, 59, 60, 61, 62, 63, 64, 65, 66, 67, 68, 69, 70, 71, 72, 73, 74, 75, 76, 77, 78, 79, 80, 81, 82]]\n"
     ]
    }
   ],
   "source": [
    "Paare = []\n",
    "for line in PuzzleInput:\n",
    "    line = line.strip()\n",
    "    Erster,Zweiter = line.split(',')\n",
    "    ErsterStart,ErsterEnde = Erster.split('-')\n",
    "    ZweiterStart,ZweiterEnde = Zweiter.split('-')\n",
    "    AssignmentsErster = list(range(int(ErsterStart),int(ErsterEnde)+1))\n",
    "    AssignmentsZweiter = list(range(int(ZweiterStart),int(ZweiterEnde)+1))\n",
    "    Paare.append([AssignmentsErster,AssignmentsZweiter])\n",
    "print(Paare[0])\n"
   ]
  },
  {
   "cell_type": "code",
   "execution_count": 33,
   "metadata": {},
   "outputs": [],
   "source": [
    "def checkObEinPartnerAnderenEnthaelt(Partner1:list[str],Partner2:list[str]) -> int:\n",
    "    if all(elem in Partner2 for elem in Partner1):\n",
    "        return 1\n",
    "    if all(elem in Partner1 for elem in Partner2):\n",
    "        return 1\n",
    "    else:\n",
    "        return 0\n",
    "\n",
    "def zaehlePaareDieAnderenEnthalten(Paare) -> int:\n",
    "    Anzahl = 0\n",
    "    for Paar in Paare:\n",
    "        Anzahl += checkObEinPartnerAnderenEnthaelt(Paar[0],Paar[1])\n",
    "    return Anzahl\n",
    "\n",
    "def checkObPartnerOverlapHaben(Partner1:list[str],Partner2:list[str]) -> int:\n",
    "    if any(elem in Partner2 for elem in Partner1):\n",
    "        return 1\n",
    "    if any(elem in Partner1 for elem in Partner2):\n",
    "        return 1\n",
    "    else:\n",
    "        return 0\n",
    "\n",
    "def zaehlePaareDieOverlapHaben(Paare) -> int:\n",
    "    Anzahl = sum(checkObPartnerOverlapHaben(Paar[0],Paar[1]) for Paar in Paare)\n",
    "    return Anzahl"
   ]
  },
  {
   "cell_type": "code",
   "execution_count": 34,
   "metadata": {},
   "outputs": [
    {
     "name": "stdout",
     "output_type": "stream",
     "text": [
      "Antwort 4A: 475\n",
      "Antwort 4B: 825\n"
     ]
    }
   ],
   "source": [
    "print('Antwort 4A: '+str(zaehlePaareDieAnderenEnthalten(Paare)))\n",
    "print('Antwort 4B: '+str(zaehlePaareDieOverlapHaben(Paare)))"
   ]
  },
  {
   "cell_type": "code",
   "execution_count": null,
   "metadata": {},
   "outputs": [],
   "source": []
  }
 ],
 "metadata": {
  "kernelspec": {
   "display_name": "Python 3",
   "language": "python",
   "name": "python3"
  },
  "language_info": {
   "codemirror_mode": {
    "name": "ipython",
    "version": 3
   },
   "file_extension": ".py",
   "mimetype": "text/x-python",
   "name": "python",
   "nbconvert_exporter": "python",
   "pygments_lexer": "ipython3",
   "version": "3.11.1"
  },
  "orig_nbformat": 4,
  "vscode": {
   "interpreter": {
    "hash": "a430bdd78cabb0319c021e4bed8a7f8a17d1ee4cfda3ab2cdd64c9dbb9e027b6"
   }
  }
 },
 "nbformat": 4,
 "nbformat_minor": 2
}
