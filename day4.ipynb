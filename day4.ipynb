{
 "cells": [
  {
   "cell_type": "code",
   "execution_count": null,
   "metadata": {},
   "outputs": [],
   "source": [
    "from SolvingAdvent.HelferWichtel import HelferWichtel as Wichtel\n",
    "\n",
    "TAG = '04'\n",
    "\n",
    "Helfer = Wichtel()\n",
    "PuzzleInput = Helfer.getPuzzleInput(TAG)"
   ]
  },
  {
   "cell_type": "code",
   "execution_count": null,
   "metadata": {},
   "outputs": [],
   "source": [
    "Paare = []\n",
    "for line in PuzzleInput:\n",
    "    line = line.strip()\n",
    "    Erster,Zweiter = line.split(',')\n",
    "    ErsterStart,ErsterEnde = Erster.split('-')\n",
    "    ZweiterStart,ZweiterEnde = Zweiter.split('-')\n",
    "    AssignmentsErster = list(range(int(ErsterStart),int(ErsterEnde)+1))\n",
    "    AssignmentsZweiter = list(range(int(ZweiterStart),int(ZweiterEnde)+1))\n",
    "    Paare.append([AssignmentsErster,AssignmentsZweiter])\n",
    "print(Paare[0])\n"
   ]
  },
  {
   "cell_type": "code",
   "execution_count": null,
   "metadata": {},
   "outputs": [],
   "source": []
  },
  {
   "cell_type": "code",
   "execution_count": null,
   "metadata": {},
   "outputs": [],
   "source": []
  },
  {
   "cell_type": "code",
   "execution_count": null,
   "metadata": {},
   "outputs": [],
   "source": []
  }
 ],
 "metadata": {
  "kernelspec": {
   "display_name": "Python 3",
   "language": "python",
   "name": "python3"
  },
  "language_info": {
   "codemirror_mode": {
    "name": "ipython",
    "version": 3
   },
   "file_extension": ".py",
   "mimetype": "text/x-python",
   "name": "python",
   "nbconvert_exporter": "python",
   "pygments_lexer": "ipython3",
   "version": "3.11.1"
  },
  "orig_nbformat": 4,
  "vscode": {
   "interpreter": {
    "hash": "a430bdd78cabb0319c021e4bed8a7f8a17d1ee4cfda3ab2cdd64c9dbb9e027b6"
   }
  }
 },
 "nbformat": 4,
 "nbformat_minor": 2
}
