{
 "cells": [
  {
   "cell_type": "code",
   "execution_count": 1,
   "metadata": {},
   "outputs": [],
   "source": [
    "import re\n",
    "from SolvingAdvent.HelferWichtel import HelferWichtel as Wichtel\n",
    "\n",
    "TAG = '05'\n",
    "id = [1,5,9,13,17,21,25,29,33]\n",
    "\n",
    "Helfer = Wichtel()\n",
    "PuzzleInput = Helfer.getPuzzleInput(TAG)\n",
    "initialHarbourLayoutInverted = [[Layer[i].strip() for i in id] for Layer in PuzzleInput[7::-1]]\n",
    "listOfCommands = [re.findall(\"\\d+\",line) for line in PuzzleInput[10:]]"
   ]
  },
  {
   "cell_type": "code",
   "execution_count": 2,
   "metadata": {},
   "outputs": [],
   "source": [
    "class ClassHafenKran():\n",
    "    def __init__(self,numberOfStacks:int = 0,startConfiguration:list[str] = []):\n",
    "        self.onCrane = ''\n",
    "        if (not startConfiguration) and numberOfStacks==0:\n",
    "            self.stacks = []\n",
    "            return\n",
    "        if not numberOfStacks==len(startConfiguration):\n",
    "            raise Exception('Anzahl Stacks und Start Konfiguration passen nicht zusammen')\n",
    "        self.stacks = []\n",
    "        for n in range(0,numberOfStacks):\n",
    "            self.stacks.append(startConfiguration[n])\n",
    "\n",
    "    def fillInitialSetup(self,initialHarbourLayoutInverted:list[list[str]]):\n",
    "        self.stacks = []\n",
    "        for i,Layer in enumerate(initialHarbourLayoutInverted): \n",
    "            self.fillOneLayerOfCrates(Layer)\n",
    "\n",
    "    def fillCrateOnStack(self,stackNumber:int,crate:str):\n",
    "        while len(self.stacks) < stackNumber: # Damit der Stack auch indiziert werden kann, wenn nicht vorhanden\n",
    "            self.stacks.append('')\n",
    "        self.stacks[stackNumber] = self.stacks[stackNumber] + crate\n",
    "\n",
    "    def fillOneLayerOfCrates(self,layerBestueckung:list[str]):\n",
    "        while len(self.stacks) < len(layerBestueckung): # Damit der Stack auch indiziert werden kann, wenn nicht vorhanden\n",
    "            self.stacks.append('')\n",
    "        for n,crate in enumerate(layerBestueckung):\n",
    "            self.stacks[n] = self.stacks[n] + crate\n",
    "        \n",
    "    def listAllStacks(self) -> list[str]:\n",
    "        return self.stacks\n",
    "\n",
    "    def listSingleStack(self,stackNumber:int) -> list[str]:\n",
    "        return self.stacks[stackNumber]\n",
    "    \n",
    "    def pickupCrateFromStack(self,stackNumber:int):\n",
    "        self.checkIfCraneIsEmpty()\n",
    "        self.onCrane = self.stacks[stackNumber][-1]\n",
    "        self.stacks[stackNumber] = self.stacks[stackNumber][:-1]\n",
    "\n",
    "    def pickupMultipleCratesFromStack9001(self,stackNumber:int,numberOfCrates:int):\n",
    "        self.checkIfCraneIsEmpty()\n",
    "        stack = self.stacks[stackNumber]\n",
    "        self.onCrane = ''.join(stack[len(stack)-numberOfCrates:])\n",
    "        self.stacks[stackNumber] = self.stacks[stackNumber][:-numberOfCrates]\n",
    "\n",
    "    def checkIfCraneIsEmpty(self):\n",
    "        if not self.onCrane == '':\n",
    "            raise Exception('Kran ist nicht leer!')\n",
    "    \n",
    "    def listCratesOnCrane(self) -> str:\n",
    "        onCrane = str(self.onCrane)\n",
    "        return onCrane\n",
    "\n",
    "    def placeCrateOnStack(self,stackNumber:int):\n",
    "        self.stacks[stackNumber] = self.stacks[stackNumber] + self.onCrane\n",
    "        self.onCrane = ''\n",
    "\n",
    "    def placeMultipleCratesOnStack9001(self,stackNumber:int):\n",
    "        self.stacks[stackNumber] = self.stacks[stackNumber] + self.onCrane\n",
    "        self.onCrane = ''\n",
    "\n",
    "    def executeOneLineOfCommands(self,numberOfPlacements:int,startStack:int,targetStack:int,craneType:int):\n",
    "        if len(self.listSingleStack(startStack)) < numberOfPlacements:\n",
    "            raise Exception('Auf Start Stack sind nicht mehr %s Boxen vorhanden' % str(numberOfPlacements))\n",
    "        if craneType == 9000:\n",
    "            for n in range(0,numberOfPlacements):\n",
    "                self.pickupCrateFromStack(startStack)\n",
    "                self.placeCrateOnStack(targetStack)\n",
    "            return\n",
    "        if craneType == 9001:\n",
    "            self.pickupMultipleCratesFromStack9001(startStack,numberOfPlacements)\n",
    "            self.placeMultipleCratesOnStack9001(targetStack)\n",
    "            return\n",
    "        else:\n",
    "            raise Exception('Kran Typ nicht vorhanden')\n",
    "\n",
    "    def executeAllCommands(self,listOfCommands:list[list[str]],craneType:int = 9000):\n",
    "        for i,command in enumerate(listOfCommands):\n",
    "            numberOfPlacements = int(command[0])\n",
    "            startStack = int(command[1]) - 1\n",
    "            targetStack = int(command[2]) - 1\n",
    "            self.executeOneLineOfCommands(numberOfPlacements,startStack,targetStack,craneType)"
   ]
  },
  {
   "cell_type": "code",
   "execution_count": 3,
   "metadata": {},
   "outputs": [
    {
     "name": "stdout",
     "output_type": "stream",
     "text": [
      "Antwort A ist QGTHFZBHV: \n",
      "Antwort B ist MGDMPSZTM: \n"
     ]
    }
   ],
   "source": [
    "HafenKran = ClassHafenKran()\n",
    "\n",
    "HafenKran.fillInitialSetup(initialHarbourLayoutInverted)\n",
    "\n",
    "HafenKran.executeAllCommands(listOfCommands,9000)\n",
    "Uebersicht = HafenKran.listAllStacks()\n",
    "AntwortA = ''.join(Uebersicht[i][-1] for i,item in enumerate(Uebersicht))\n",
    "print('Antwort A ist %s: ' %AntwortA)\n",
    "\n",
    "HafenKran.fillInitialSetup(initialHarbourLayoutInverted)\n",
    "HafenKran.executeAllCommands(listOfCommands,9001)\n",
    "Uebersicht = HafenKran.listAllStacks()\n",
    "AntwortB = ''.join(Uebersicht[i][-1] for i,item in enumerate(Uebersicht))\n",
    "print('Antwort B ist %s: ' %AntwortB)\n"
   ]
  },
  {
   "cell_type": "code",
   "execution_count": 4,
   "metadata": {},
   "outputs": [
    {
     "name": "stdout",
     "output_type": "stream",
     "text": [
      "['Z', 'ZZ']\n"
     ]
    }
   ],
   "source": [
    "# Testing\n",
    "HafenKran = ClassHafenKran(2,['Z','ZZ'])\n",
    "print(HafenKran.listAllStacks())\n"
   ]
  }
 ],
 "metadata": {
  "kernelspec": {
   "display_name": "pyenv",
   "language": "python",
   "name": "python3"
  },
  "language_info": {
   "codemirror_mode": {
    "name": "ipython",
    "version": 3
   },
   "file_extension": ".py",
   "mimetype": "text/x-python",
   "name": "python",
   "nbconvert_exporter": "python",
   "pygments_lexer": "ipython3",
   "version": "3.10.0 (tags/v3.10.0:b494f59, Oct  4 2021, 19:00:18) [MSC v.1929 64 bit (AMD64)]"
  },
  "orig_nbformat": 4,
  "vscode": {
   "interpreter": {
    "hash": "d0c3d4aaaf6ccd9e3fef41017d298d05c7cebe4005ad2bf55ceed44b42e0013b"
   }
  }
 },
 "nbformat": 4,
 "nbformat_minor": 2
}
