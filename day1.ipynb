{
 "cells": [
  {
   "cell_type": "code",
   "execution_count": null,
   "metadata": {},
   "outputs": [],
   "source": [
    "pathToInput = './Input/'\n",
    "pathToFile = 'day01.txt'\n",
    "\n",
    "print(\"Diese Datei wird geöffnet:   \" + pathToInput + pathToFile)\n",
    "\n",
    "with open(pathToInput + pathToFile) as file:\n",
    "    lines = file.read().strip().split(\"\\n\")\n",
    "    data = []\n",
    "    for line in lines:        \n",
    "        data.append(line)\n",
    "\n",
    "print(data)\n",
    "print(lines)"
   ]
  },
  {
   "cell_type": "code",
   "execution_count": 1,
   "metadata": {},
   "outputs": [
    {
     "name": "stdout",
     "output_type": "stream",
     "text": [
      "Puzzle inputs differ by user.  Please log in to get your puzzle input.\n",
      "\n"
     ]
    }
   ],
   "source": [
    "import requests\n",
    "\n",
    "symbol = \"mtgoxUSD\"\n",
    "url = 'https://adventofcode.com/2022/day/1/input'\n",
    "data = requests.get(url)\n",
    "\n",
    "print(data.text)\n",
    "\n",
    "# # dump resulting text to file\n",
    "# with open(\"trades_{}.csv\".format(symbol), \"w\") as out_f:\n",
    "#     out_f.write(data.text)"
   ]
  },
  {
   "cell_type": "code",
   "execution_count": 6,
   "metadata": {},
   "outputs": [
    {
     "name": "stdout",
     "output_type": "stream",
     "text": [
      "Maximaler Kalorienwert eines Elfen ist: 72017\n",
      "222\n",
      "Kalorienwert der top 3 Elfen ist: 212520\n",
      "242\n",
      "7\n"
     ]
    },
    {
     "data": {
      "text/plain": [
       "13"
      ]
     },
     "execution_count": 6,
     "metadata": {},
     "output_type": "execute_result"
    }
   ],
   "source": [
    "pathToFile = './Input/'\n",
    "fileName = 'day-1-A.txt'\n",
    "\n",
    "\n",
    "\n",
    "class Elf():\n",
    "    def __init__(self, Inventar = None):\n",
    "        if Inventar is None:\n",
    "            Inventar = []\n",
    "        self.Inventar = Inventar\n",
    "         \n",
    "    def amountItems(self):\n",
    "        return len(self.Inventar)\n",
    "    \n",
    "    def amountCalories(self):\n",
    "        return sum(self.Inventar)\n",
    "    \n",
    "    def addItem(self,calories:int):\n",
    "        if calories == 0:\n",
    "            return\n",
    "        self.Inventar.append(calories)\n",
    "\n",
    "\n",
    "with open(pathToFile + fileName) as datei:\n",
    "    lines = datei.readlines()\n",
    "    \n",
    "meuteElfen = []\n",
    "meuteElfen.append(Elf())\n",
    "\n",
    "for line in lines:\n",
    "    if line == '\\n':\n",
    "        meuteElfen.append(Elf())\n",
    "        continue\n",
    "    meuteElfen[-1].addItem(int(line.strip()))\n",
    "    int\n",
    "\n",
    "# Aufgabe 1A: Finde Maximalen Kalorie Wert \n",
    "Inventare = [i.amountCalories() for i in meuteElfen]\n",
    "print('Maximaler Kalorienwert eines Elfen ist: ' + str(max(Inventare)))\n",
    "print(Inventare.index(max(Inventare)))\n",
    "\n",
    "# Aufgabe 1B: Finde Kalorien Wert der drei besten Elfen summiert\n",
    "print('Kalorienwert der top 3 Elfen ist: ' + str(sum(sorted(Inventare)[-3:])))\n",
    "\n",
    "\n",
    "#testing\n",
    "print(len(meuteElfen))\n",
    "print(meuteElfen[-1].amountItems())\n",
    "\n",
    "    \n",
    "meuteElfen[222].amountItems()\n"
   ]
  },
  {
   "cell_type": "code",
   "execution_count": 5,
   "metadata": {},
   "outputs": [
    {
     "name": "stdout",
     "output_type": "stream",
     "text": [
      "[4, 6, 3, 7, 9]\n",
      "[4, 6, 3, 7]\n",
      "[3, 4, 6, 7]\n"
     ]
    }
   ],
   "source": [
    "a = [4,6,3,7,9]\n",
    "print(a)\n",
    "a.remove(9)\n",
    "print(a)\n",
    "print(sorted(a))"
   ]
  },
  {
   "cell_type": "code",
   "execution_count": null,
   "metadata": {},
   "outputs": [],
   "source": []
  }
 ],
 "metadata": {
  "kernelspec": {
   "display_name": "Python 3",
   "language": "python",
   "name": "python3"
  },
  "language_info": {
   "codemirror_mode": {
    "name": "ipython",
    "version": 3
   },
   "file_extension": ".py",
   "mimetype": "text/x-python",
   "name": "python",
   "nbconvert_exporter": "python",
   "pygments_lexer": "ipython3",
   "version": "3.11.1 (tags/v3.11.1:a7a450f, Dec  6 2022, 19:58:39) [MSC v.1934 64 bit (AMD64)]"
  },
  "orig_nbformat": 4,
  "vscode": {
   "interpreter": {
    "hash": "a430bdd78cabb0319c021e4bed8a7f8a17d1ee4cfda3ab2cdd64c9dbb9e027b6"
   }
  }
 },
 "nbformat": 4,
 "nbformat_minor": 2
}
