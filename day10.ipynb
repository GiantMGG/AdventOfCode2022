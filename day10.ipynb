{
 "cells": [
  {
   "cell_type": "code",
   "execution_count": 121,
   "metadata": {},
   "outputs": [
    {
     "name": "stdout",
     "output_type": "stream",
     "text": [
      "['addx 1', 'noop', 'addx 4', 'noop', 'noop', 'noop', 'addx 6', 'addx -1', 'addx 5', 'noop', 'noop', 'noop', 'addx 5', 'addx -14', 'noop', 'addx 19', 'noop', 'addx 1', 'addx 4', 'addx 1', 'noop', 'noop', 'addx 2', 'addx 5', 'addx -27', 'addx 20', 'addx -30', 'addx 2', 'addx 5', 'addx 2', 'addx 4', 'addx -3', 'addx 2', 'addx 5', 'addx 2', 'addx -9', 'addx 1', 'addx 11', 'noop', 'addx -20', 'addx 7', 'addx 23', 'addx 2', 'addx 3', 'addx -2', 'addx -34', 'addx -2', 'noop', 'addx 3', 'noop', 'addx 3', 'addx 2', 'noop', 'addx 3', 'addx 2', 'addx 5', 'addx 2', 'addx -9', 'addx -7', 'addx 21', 'noop', 'addx 8', 'noop', 'addx -1', 'addx 3', 'addx -2', 'addx 5', 'addx -37', 'noop', 'addx 35', 'addx -31', 'addx 1', 'addx 4', 'addx -1', 'addx 2', 'noop', 'addx 3', 'addx 1', 'addx 5', 'addx -2', 'addx 7', 'addx -2', 'addx -2', 'addx 10', 'noop', 'addx 4', 'noop', 'noop', 'addx -19', 'addx 20', 'addx -38', 'noop', 'noop', 'addx 7', 'addx 2', 'addx 3', 'noop', 'addx 4', 'addx -3', 'addx 2', 'addx 2', 'noop', 'addx 3', 'noop', 'noop', 'noop', 'addx 5', 'noop', 'addx 7', 'addx -2', 'addx 7', 'noop', 'noop', 'addx -5', 'addx 6', 'addx -36', 'noop', 'addx 1', 'addx 2', 'addx 5', 'addx 2', 'addx 3', 'addx -2', 'addx 2', 'addx 5', 'addx 2', 'addx 1', 'noop', 'addx 4', 'addx -16', 'addx 21', 'noop', 'noop', 'addx 1', 'addx -8', 'addx 12', 'noop', 'noop', 'noop', 'noop']\n"
     ]
    }
   ],
   "source": [
    "import re\n",
    "from typing import Tuple\n",
    "import numpy as np\n",
    "from SolvingAdvent.HelferWichtel import HelferWichtel as Wichtel\n",
    "from IPython.display import clear_output\n",
    "import time\n",
    "\n",
    "TagFile = '10'\n",
    "\n",
    "\n",
    "Helfer = Wichtel()\n",
    "PuzzleInput = ''.join(Helfer.getPuzzleInput(TagFile))\n",
    "PuzzleInput = [line for line in PuzzleInput.split('\\n')]\n",
    "print(PuzzleInput)\n"
   ]
  },
  {
   "cell_type": "code",
   "execution_count": 160,
   "metadata": {},
   "outputs": [],
   "source": [
    "class commandParser:\n",
    "    commands = {'addx', 'noop'}\n",
    "    \n",
    "    def tokenize(self,input):\n",
    "        command = None\n",
    "        argument = None\n",
    "        command = re.search('[a-zA-Z]+',input).group()\n",
    "        try:\n",
    "            argument = re.search('-*\\d+',input).group()\n",
    "        except:\n",
    "            argument = None\n",
    "        return command, argument\n",
    "        \n",
    "\n",
    "\n",
    "class CRT:\n",
    "    HEIGHT = 6\n",
    "    WIDTH = 40\n",
    "    \n",
    "    def __init__(self):\n",
    "        self.cycle = 0\n",
    "        self.row = 0\n",
    "        self.column = 0\n",
    "        self.spritePosition = 0\n",
    "        self.clearScreen()\n",
    "        \n",
    "    def setSpritePosition(self,position):\n",
    "        self.spritePosition = position\n",
    "        \n",
    "    def moveCurrentPixel(self):\n",
    "        if self.column == CRT.WIDTH-1:\n",
    "            self.column = 0\n",
    "            if self.row == CRT.HEIGHT-1:\n",
    "                self.row = 0\n",
    "                self.printScreen()\n",
    "                self.clearScreen()\n",
    "            else:\n",
    "                self.row += 1\n",
    "        else:\n",
    "            self.column += 1\n",
    "    \n",
    "    def clearScreen(self):\n",
    "        self.screen = [''.join(['.' for column in range(0,CRT.WIDTH)])  for row in range(0,CRT.HEIGHT)]\n",
    "    \n",
    "    def printScreen(self):\n",
    "        clear_output(wait=True)\n",
    "        print('\\n'.join(self.screen))\n",
    "        time.sleep(1)\n",
    "        \n",
    "    def addCycle(self):\n",
    "        self.drawPixel()\n",
    "        self.moveCurrentPixel()\n",
    "        self.cycle += 1\n",
    "    \n",
    "    def drawPixel(self):\n",
    "        row = self.row\n",
    "        column = self.column\n",
    "        if abs(self.column - self.spritePosition) <=1:\n",
    "            self.screen[row] = self.screen[row][0:column] + '#' + self.screen[row][column+1:]\n",
    "        else:\n",
    "            self.screen[row] = self.screen[row][0:column] + '.' + self.screen[row][column+1:]\n",
    "            \n",
    "            \n",
    "    \n",
    "class Rechner:\n",
    "    def __init__(self):\n",
    "        self.cycles = 0\n",
    "        self.register = 1\n",
    "        self.interrupt = -1\n",
    "        self.signalStrengthList = []\n",
    "        self.CRT = CRT()\n",
    "        \n",
    "    def getRegister(self):\n",
    "        return self.register\n",
    "    \n",
    "    def setRegister(self, newValue):\n",
    "        self.register = newValue\n",
    "        \n",
    "    def getCycles(self):\n",
    "        return self.cycles\n",
    "    \n",
    "    def getSignalStrengthList(self):\n",
    "        return self.signalStrengthList\n",
    "    \n",
    "    def setNextCyclicInterupt(self):\n",
    "        self.interrupt += self.periodicInterrupt\n",
    "    \n",
    "    def setUpInterrupt(self, firstInterrupt, periodicInterrupt):\n",
    "        self.interrupt = firstInterrupt\n",
    "        self.periodicInterrupt = periodicInterrupt\n",
    "        \n",
    "    def addCycle(self):\n",
    "        self.cycles += 1\n",
    "        self.CRT.addCycle()\n",
    "        if bool(self.cycles == self.interrupt):\n",
    "            self.interruptRoutine()\n",
    "            self.setNextCyclicInterupt()\n",
    "\n",
    "    def commandInput(self, command, argument):\n",
    "        if command == 'noop':\n",
    "            self.executeNoOp()\n",
    "        if command == 'addx':\n",
    "            self.executeAddition(argument)\n",
    "\n",
    "    def executeAddition(self, value):\n",
    "        self.addCycle()\n",
    "        self.addCycle()\n",
    "        self.setRegister(self.getRegister() + int(value))\n",
    "        self.CRT.setSpritePosition(self.getRegister())\n",
    "        \n",
    "    def executeNoOp(self):\n",
    "        self.addCycle()\n",
    "        \n",
    "    def calcSignalStrength(self):\n",
    "        return self.getRegister()*self.cycles\n",
    "        \n",
    "    def interruptRoutine(self):\n",
    "        signalStrength = self.calcSignalStrength()\n",
    "        self.signalStrengthList.append(signalStrength)\n",
    "        pass"
   ]
  },
  {
   "cell_type": "code",
   "execution_count": 161,
   "metadata": {},
   "outputs": [
    {
     "name": "stdout",
     "output_type": "stream",
     "text": [
      "####.###...##..###..#....####.####.#..#.\n",
      "...#.#..#.#..#.#..#.#....#.......#.#..#.\n",
      "..#..#..#.#..#.#..#.#....###....#..#..#.\n",
      ".#...###..####.###..#....#.....#...#..#.\n",
      "#....#.#..#..#.#.#..#....#....#....#..#.\n",
      "####.#..#.#..#.#..#.####.#....####..##..\n",
      "Antwort A von Tag 10: 14220\n"
     ]
    }
   ],
   "source": [
    "# Class testing\n",
    "Parser = commandParser()\n",
    "newRechner = Rechner()\n",
    "newRechner.setUpInterrupt(20,40)\n",
    "\n",
    "for line in PuzzleInput:\n",
    "    Token = Parser.tokenize(line)\n",
    "    newRechner.commandInput(Token[0],Token[1])\n",
    "print('Antwort A von Tag 10: %s' %sum(newRechner.getSignalStrengthList()))\n"
   ]
  },
  {
   "cell_type": "code",
   "execution_count": 49,
   "metadata": {},
   "outputs": [
    {
     "name": "stdout",
     "output_type": "stream",
     "text": [
      "Testen\n",
      "ob\n",
      "ich\n",
      "hiermit\n"
     ]
    }
   ],
   "source": [
    "a = 'Testen, ob ich hiermit'\n",
    "a.strip()\n",
    "b = re.finditer('[^\\s,]+',a)\n",
    "for c in b:\n",
    "    start = int(c.start())\n",
    "    end = int(c.end())\n",
    "    print(a[start:end])"
   ]
  },
  {
   "cell_type": "code",
   "execution_count": 60,
   "metadata": {},
   "outputs": [
    {
     "data": {
      "text/plain": [
       "<re.Match object; span=(3, 4), match='4'>"
      ]
     },
     "execution_count": 60,
     "metadata": {},
     "output_type": "execute_result"
    }
   ],
   "source": [
    "re.search('-?\\d+','adb4 -44')"
   ]
  },
  {
   "cell_type": "code",
   "execution_count": 86,
   "metadata": {},
   "outputs": [
    {
     "data": {
      "text/plain": [
       "0"
      ]
     },
     "execution_count": 86,
     "metadata": {},
     "output_type": "execute_result"
    }
   ],
   "source": [
    "-20%20"
   ]
  },
  {
   "cell_type": "code",
   "execution_count": 124,
   "metadata": {},
   "outputs": [
    {
     "name": "stdout",
     "output_type": "stream",
     "text": [
      "........................................\n",
      "........................................\n",
      "........................................\n",
      "........................................\n",
      "........................................\n",
      "........................................\n",
      ".\n"
     ]
    }
   ],
   "source": [
    "a = []\n",
    "b = [''.join(['.' for column in range(0,40)])  for row in range(0,6)]\n",
    "print('\\n'.join(b))\n",
    "time.sleep(1)\n",
    "print(b[1][1])"
   ]
  },
  {
   "cell_type": "code",
   "execution_count": 152,
   "metadata": {},
   "outputs": [
    {
     "name": "stdout",
     "output_type": "stream",
     "text": [
      "afc\n"
     ]
    }
   ],
   "source": [
    "a = 'abc'\n",
    "a = a[0:1] + 'f' + a[2:]\n",
    "print(a)"
   ]
  },
  {
   "cell_type": "code",
   "execution_count": 159,
   "metadata": {},
   "outputs": [
    {
     "data": {
      "text/plain": [
       "''"
      ]
     },
     "execution_count": 159,
     "metadata": {},
     "output_type": "execute_result"
    }
   ],
   "source": [
    "a[3:]"
   ]
  },
  {
   "cell_type": "code",
   "execution_count": null,
   "metadata": {},
   "outputs": [],
   "source": []
  }
 ],
 "metadata": {
  "kernelspec": {
   "display_name": "pyenv",
   "language": "python",
   "name": "python3"
  },
  "language_info": {
   "codemirror_mode": {
    "name": "ipython",
    "version": 3
   },
   "file_extension": ".py",
   "mimetype": "text/x-python",
   "name": "python",
   "nbconvert_exporter": "python",
   "pygments_lexer": "ipython3",
   "version": "3.10.0"
  },
  "orig_nbformat": 4,
  "vscode": {
   "interpreter": {
    "hash": "d0c3d4aaaf6ccd9e3fef41017d298d05c7cebe4005ad2bf55ceed44b42e0013b"
   }
  }
 },
 "nbformat": 4,
 "nbformat_minor": 2
}
