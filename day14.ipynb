{
 "cells": [
  {
   "cell_type": "code",
   "execution_count": null,
   "metadata": {},
   "outputs": [],
   "source": [
    "import re\n",
    "from typing import Tuple\n",
    "import numpy as np\n",
    "from SolvingAdvent.HelferWichtel import HelferWichtel as Wichtel\n",
    "from IPython.display import clear_output\n",
    "import time\n",
    "import math\n",
    "\n",
    "TagFile = '12Test'\n",
    "\n",
    "\n",
    "Helfer = Wichtel()\n",
    "PuzzleInput = Helfer.getPuzzleInput(TagFile)\n",
    "PuzzleInput = [line.replace('\\n','').strip() for line in PuzzleInput]\n"
   ]
  }
 ],
 "metadata": {
  "kernelspec": {
   "display_name": "Python 3",
   "language": "python",
   "name": "python3"
  },
  "language_info": {
   "name": "python",
   "version": "3.11.1 (tags/v3.11.1:a7a450f, Dec  6 2022, 19:58:39) [MSC v.1934 64 bit (AMD64)]"
  },
  "orig_nbformat": 4,
  "vscode": {
   "interpreter": {
    "hash": "e212872a1340552ab9535abb560bbfb8bc8d044a6c97ace500f46263feb6d5eb"
   }
  }
 },
 "nbformat": 4,
 "nbformat_minor": 2
}
