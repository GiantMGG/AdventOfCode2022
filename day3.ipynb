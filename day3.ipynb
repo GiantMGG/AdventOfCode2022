{
 "cells": [
  {
   "cell_type": "code",
   "execution_count": 31,
   "metadata": {},
   "outputs": [],
   "source": [
    "pathToInput = './Input/'\n",
    "pathToFile = 'day03.txt'"
   ]
  },
  {
   "cell_type": "code",
   "execution_count": 32,
   "metadata": {},
   "outputs": [
    {
     "name": "stdout",
     "output_type": "stream",
     "text": [
      "44\n"
     ]
    }
   ],
   "source": [
    "with open(pathToInput + pathToFile) as file:\n",
    "    lines = file.readlines()\n",
    "lines = [line.strip().replace(' ','') for line in lines]\n",
    "print(len(lines[2]))"
   ]
  },
  {
   "cell_type": "code",
   "execution_count": 33,
   "metadata": {},
   "outputs": [],
   "source": [
    "class Rucksack():\n",
    "    def __init__(self,Items: str = ''):\n",
    "        self.Items = Items\n",
    "\n",
    "    def addItemsToEndOfRucksack(self,Items: str =''):\n",
    "        self.Items += Items\n",
    "\n",
    "    def getFirstCompartment(self) -> str:\n",
    "        if not self.Items:\n",
    "            raise Exception('Rucksack ist leer!')\n",
    "        if (len(self.Items) % 2 ) != 0:\n",
    "            raise Exception('Anzahl der Items ist nicht gerade!')\n",
    "        FirstHalfItems = self.Items[0:len(self.Items)//2]\n",
    "        FirstCompartment = FirstHalfItems\n",
    "        return FirstCompartment\n",
    "\n",
    "    def getSecondCompartment(self) -> str:\n",
    "        if not self.Items:\n",
    "            raise Exception('Rucksack ist leer!')\n",
    "        if (len(self.Items) % 2) != 0:\n",
    "            raise Exception('Anzahl der Items ist nicht gerade!')\n",
    "        SecondHalfItems = self.Items[len(self.Items)//2:]\n",
    "        SecondCompartment = SecondHalfItems\n",
    "        return SecondCompartment\n",
    "\n",
    "    def getAllItems(self) -> str:\n",
    "        if not self.Items:\n",
    "            raise Exception('Rucksack ist leer!')\n",
    "        return self.Items\n",
    "\n",
    "    def findFaultyItem(self) -> str:\n",
    "        FirstCompartment = self.getFirstCompartment()\n",
    "        SecondCompartment = self.getSecondCompartment()\n",
    "        sameItem = self.identifySameItem(FirstCompartment, SecondCompartment)\n",
    "        return sameItem\n",
    "\n",
    "    def findPriorityOfFaultyItem(self) -> int:\n",
    "        Item = self.findFaultyItem()\n",
    "        return Rucksack.getPriorityOfItem(Item)\n",
    "\n",
    "    @staticmethod\n",
    "    def getPriorityOfItem(Item:str) -> int:\n",
    "        if Item.islower():\n",
    "            return ord(Item)-96\n",
    "        if Item.isupper():\n",
    "            return ord(Item)-64 + 26\n",
    "        else:\n",
    "            raise Exception('Keine Items im Rucksack?')\n",
    "\n",
    "\n",
    "    @staticmethod\n",
    "    def identifySameItem(firstItemList:str, secondItemList:str, thirdItemList: str = '') -> str:\n",
    "        if not thirdItemList:\n",
    "            sameItem = ''.join(set(firstItemList)&set(secondItemList))\n",
    "        else:\n",
    "            sameItem = ''.join(set(firstItemList)&set(secondItemList)&set(thirdItemList))\n",
    "        return sameItem\n"
   ]
  },
  {
   "cell_type": "code",
   "execution_count": 34,
   "metadata": {},
   "outputs": [
    {
     "data": {
      "text/plain": [
       "'aA'"
      ]
     },
     "execution_count": 34,
     "metadata": {},
     "output_type": "execute_result"
    }
   ],
   "source": [
    "# Testing\n",
    "Rucksack1 = Rucksack()\n",
    "Rucksack1.addItemsToEndOfRucksack('ADabcefghijklmnopqrsaABCdB')\n",
    "# Rucksack1.getFirstCompartment()\n",
    "Rucksack1.getSecondCompartment()\n",
    "Rucksack1.findFaultyItem()"
   ]
  },
  {
   "cell_type": "code",
   "execution_count": 47,
   "metadata": {},
   "outputs": [
    {
     "name": "stdout",
     "output_type": "stream",
     "text": [
      "Teil A: 8153\n",
      "Teil B: 2342\n"
     ]
    }
   ],
   "source": [
    "Rucksaecke = [Rucksack] * len(lines)\n",
    "prioritySum = 0\n",
    "for n,line in enumerate(lines):\n",
    "    Rucksaecke[n] = Rucksack()\n",
    "    Rucksaecke[n].addItemsToEndOfRucksack(line)\n",
    "    prioritySum += Rucksaecke[n].findPriorityOfFaultyItem()\n",
    "print('Teil A: '+str(prioritySum))\n",
    "badgePrioritySum = 0\n",
    "for n,line in enumerate(lines):\n",
    "    if n%3==0:\n",
    "        Badge = Rucksack.identifySameItem(Rucksaecke[n].getAllItems(),Rucksaecke[n+1].getAllItems(),Rucksaecke[n+2].getAllItems())\n",
    "        badgePrioritySum += Rucksack.getPriorityOfItem(Badge)\n",
    "    else:\n",
    "        continue\n",
    "print('Teil B: '+str(badgePrioritySum))\n"
   ]
  },
  {
   "cell_type": "code",
   "execution_count": null,
   "metadata": {},
   "outputs": [],
   "source": []
  }
 ],
 "metadata": {
  "kernelspec": {
   "display_name": "Python 3",
   "language": "python",
   "name": "python3"
  },
  "language_info": {
   "codemirror_mode": {
    "name": "ipython",
    "version": 3
   },
   "file_extension": ".py",
   "mimetype": "text/x-python",
   "name": "python",
   "nbconvert_exporter": "python",
   "pygments_lexer": "ipython3",
   "version": "3.11.1 (tags/v3.11.1:a7a450f, Dec  6 2022, 19:58:39) [MSC v.1934 64 bit (AMD64)]"
  },
  "orig_nbformat": 4,
  "vscode": {
   "interpreter": {
    "hash": "a430bdd78cabb0319c021e4bed8a7f8a17d1ee4cfda3ab2cdd64c9dbb9e027b6"
   }
  }
 },
 "nbformat": 4,
 "nbformat_minor": 2
}
