{
 "cells": [
  {
   "cell_type": "code",
   "execution_count": 222,
   "metadata": {},
   "outputs": [],
   "source": [
    "import re\n",
    "from typing import Tuple\n",
    "import numpy as np\n",
    "from SolvingAdvent.HelferWichtel import HelferWichtel as Wichtel\n",
    "from IPython.display import clear_output\n",
    "import time\n",
    "import math\n",
    "\n",
    "TagFile = '12'\n",
    "\n",
    "\n",
    "Helfer = Wichtel()\n",
    "PuzzleInput = Helfer.getPuzzleInputTotal(TagFile)\n",
    "deviceInput =  [list(line) for line in PuzzleInput.split('\\n')]\n",
    "# print(deviceInput)"
   ]
  },
  {
   "cell_type": "code",
   "execution_count": 223,
   "metadata": {},
   "outputs": [],
   "source": [
    "class WorldMap:\n",
    "    def __init__(self, deviceInput:list[list[str]] = ''):\n",
    "        self.map = deviceInput\n",
    "        self.startingPosition = self.findStart()\n",
    "        self.goalPosition = self.findGoal()\n",
    "        self.height = len(self.map)\n",
    "        self.width = len(self.map[0])\n",
    "        \n",
    "    def findStart(self) -> list[int]:\n",
    "        for i, line in enumerate(self.map):\n",
    "            if 'S' in line:\n",
    "                lineIndex = i\n",
    "                columnIndex = line.index('S')\n",
    "        return [lineIndex, columnIndex]\n",
    "\n",
    "    def findGoal(self) -> list[int]:\n",
    "        for i, line in enumerate(self.map):\n",
    "            if 'E' in line:\n",
    "                lineIndex = i\n",
    "                columnIndex = line.index('E')\n",
    "        return [lineIndex, columnIndex]\n",
    "\n",
    "    def getElevation(self, position:list[int]):\n",
    "        elevationString = self.map[position[0]][position[1]]\n",
    "        if elevationString == 'S': elevationString = 'a'\n",
    "        if elevationString == 'E': elevationString = 'z'\n",
    "        return ord(elevationString)\n",
    "    \n",
    "    def checkForFinish(self, position):\n",
    "        # print('Position = %s und Ziel = %s' %(position, self.goalPosition))\n",
    "        if position == self.goalPosition:\n",
    "            return True\n",
    "    \n",
    "    def findPossibleActions(self, position:list[int]) -> list[list[int]]:\n",
    "        possibleDirections = {'up':[-1,0],'right':[0,1],'down':[1,0],'left':[0,-1]}\n",
    "        currentElevation = self.getElevation(position)\n",
    "        possibleSurroundingFields =[]\n",
    "        for direction in possibleDirections:\n",
    "            possibleSurroundingFields.append(np.add(position,possibleDirections[direction]).tolist())\n",
    "        surroundingFields = []\n",
    "        for field in possibleSurroundingFields:\n",
    "            if (field[0] in range(0, self.height)) & (field[1] in range(0,self.width)):\n",
    "                surroundingFields.append(field)\n",
    "        possibleActions = [field for field in surroundingFields if (self.getElevation(field) <= currentElevation +1)]\n",
    "        return possibleActions\n",
    "    \n",
    "class PathPlanner:\n",
    "    def __init__(self, map:'WorldMap'):\n",
    "        self.map = map\n",
    "        self.start = self.map.findStart()\n",
    "        self.goal = self.map.findGoal()\n",
    "        self.alreadyChecked = []\n",
    "        self.listOfPaths = []\n",
    "        self.listOfFinishedPaths = []\n",
    "        \n",
    "    def getListOfFinishedPaths(self):\n",
    "        return self.listOfFinishedPaths\n",
    "        \n",
    "    def resetPlanner(self):\n",
    "        self.alreadyChecked = []\n",
    "        self.listOfPaths = []\n",
    "        self.listOfFinishedPaths = []\n",
    "        \n",
    "    def finishPath(self, path:'Path'):\n",
    "        currentPosition = path.getLastPoint()\n",
    "        possibleActions = self.map.findPossibleActions(currentPosition)\n",
    "        for action in possibleActions:\n",
    "            # print('action: %s' %action)\n",
    "            # print('List of Points: %s' % path.getPoints())\n",
    "            if action not in path.getPoints():\n",
    "                newPath = Path(self.start,path.getPoints()[1:])\n",
    "                newPath.addPoint(action)\n",
    "                if self.map.checkForFinish(newPath.getLastPoint()):\n",
    "                    self.listOfFinishedPaths.append(newPath)\n",
    "                    print('Weiterer Pfad gefunden. Jetzt %s Pfade' %(len(self.listOfFinishedPaths)))\n",
    "                else:\n",
    "                    self.finishPath(newPath)\n",
    "        \n",
    "    def findShortestWay(self, start, end):\n",
    "        firstPath = Path(start)\n",
    "        self.finishPath(firstPath)\n",
    "    \n",
    "class Path:\n",
    "    def __init__(self, start:list[int], fields:list[list[int]] = None):\n",
    "        self.fields = [start]\n",
    "        if fields:\n",
    "            for field in fields:\n",
    "                self.fields.append(field)\n",
    "            \n",
    "    def addPoint(self, point):\n",
    "        self.fields.append(point)\n",
    "        \n",
    "    def getLength(self):\n",
    "        return len(self.fields)\n",
    "    \n",
    "    def getPoints(self):\n",
    "        return self.fields\n",
    "    \n",
    "    def getLastPoint(self):\n",
    "        return self.fields[-1]\n",
    "    \n",
    "    "
   ]
  },
  {
   "cell_type": "code",
   "execution_count": 224,
   "metadata": {},
   "outputs": [
    {
     "ename": "KeyboardInterrupt",
     "evalue": "",
     "output_type": "error",
     "traceback": [
      "\u001b[1;31m---------------------------------------------------------------------------\u001b[0m",
      "\u001b[1;31mKeyboardInterrupt\u001b[0m                         Traceback (most recent call last)",
      "Cell \u001b[1;32mIn[224], line 3\u001b[0m\n\u001b[0;32m      1\u001b[0m Karte \u001b[39m=\u001b[39m WorldMap(deviceInput)\n\u001b[0;32m      2\u001b[0m Planer \u001b[39m=\u001b[39m PathPlanner(Karte)\n\u001b[1;32m----> 3\u001b[0m Planer\u001b[39m.\u001b[39;49mfindShortestWay(Karte\u001b[39m.\u001b[39;49mfindStart(),Karte\u001b[39m.\u001b[39;49mfindGoal())\n\u001b[0;32m      4\u001b[0m \u001b[39mprint\u001b[39m(\u001b[39mlen\u001b[39m(Planer\u001b[39m.\u001b[39mlistOfFinishedPaths))\n\u001b[0;32m      5\u001b[0m Pfade \u001b[39m=\u001b[39m Planer\u001b[39m.\u001b[39mgetListOfFinishedPaths()\n",
      "Cell \u001b[1;32mIn[223], line 81\u001b[0m, in \u001b[0;36mPathPlanner.findShortestWay\u001b[1;34m(self, start, end)\u001b[0m\n\u001b[0;32m     79\u001b[0m \u001b[39mdef\u001b[39;00m \u001b[39mfindShortestWay\u001b[39m(\u001b[39mself\u001b[39m, start, end):\n\u001b[0;32m     80\u001b[0m     firstPath \u001b[39m=\u001b[39m Path(start)\n\u001b[1;32m---> 81\u001b[0m     \u001b[39mself\u001b[39;49m\u001b[39m.\u001b[39;49mfinishPath(firstPath)\n",
      "Cell \u001b[1;32mIn[223], line 77\u001b[0m, in \u001b[0;36mPathPlanner.finishPath\u001b[1;34m(self, path)\u001b[0m\n\u001b[0;32m     75\u001b[0m     \u001b[39mprint\u001b[39m(\u001b[39m'\u001b[39m\u001b[39mWeiterer Pfad gefunden. Jetzt \u001b[39m\u001b[39m%s\u001b[39;00m\u001b[39m Pfade\u001b[39m\u001b[39m'\u001b[39m \u001b[39m%\u001b[39m(\u001b[39mlen\u001b[39m(\u001b[39mself\u001b[39m\u001b[39m.\u001b[39mlistOfFinishedPaths)))\n\u001b[0;32m     76\u001b[0m \u001b[39melse\u001b[39;00m:\n\u001b[1;32m---> 77\u001b[0m     \u001b[39mself\u001b[39;49m\u001b[39m.\u001b[39;49mfinishPath(newPath)\n",
      "Cell \u001b[1;32mIn[223], line 77\u001b[0m, in \u001b[0;36mPathPlanner.finishPath\u001b[1;34m(self, path)\u001b[0m\n\u001b[0;32m     75\u001b[0m     \u001b[39mprint\u001b[39m(\u001b[39m'\u001b[39m\u001b[39mWeiterer Pfad gefunden. Jetzt \u001b[39m\u001b[39m%s\u001b[39;00m\u001b[39m Pfade\u001b[39m\u001b[39m'\u001b[39m \u001b[39m%\u001b[39m(\u001b[39mlen\u001b[39m(\u001b[39mself\u001b[39m\u001b[39m.\u001b[39mlistOfFinishedPaths)))\n\u001b[0;32m     76\u001b[0m \u001b[39melse\u001b[39;00m:\n\u001b[1;32m---> 77\u001b[0m     \u001b[39mself\u001b[39;49m\u001b[39m.\u001b[39;49mfinishPath(newPath)\n",
      "    \u001b[1;31m[... skipping similar frames: PathPlanner.finishPath at line 77 (92 times)]\u001b[0m\n",
      "Cell \u001b[1;32mIn[223], line 77\u001b[0m, in \u001b[0;36mPathPlanner.finishPath\u001b[1;34m(self, path)\u001b[0m\n\u001b[0;32m     75\u001b[0m     \u001b[39mprint\u001b[39m(\u001b[39m'\u001b[39m\u001b[39mWeiterer Pfad gefunden. Jetzt \u001b[39m\u001b[39m%s\u001b[39;00m\u001b[39m Pfade\u001b[39m\u001b[39m'\u001b[39m \u001b[39m%\u001b[39m(\u001b[39mlen\u001b[39m(\u001b[39mself\u001b[39m\u001b[39m.\u001b[39mlistOfFinishedPaths)))\n\u001b[0;32m     76\u001b[0m \u001b[39melse\u001b[39;00m:\n\u001b[1;32m---> 77\u001b[0m     \u001b[39mself\u001b[39;49m\u001b[39m.\u001b[39;49mfinishPath(newPath)\n",
      "Cell \u001b[1;32mIn[223], line 66\u001b[0m, in \u001b[0;36mPathPlanner.finishPath\u001b[1;34m(self, path)\u001b[0m\n\u001b[0;32m     64\u001b[0m \u001b[39mdef\u001b[39;00m \u001b[39mfinishPath\u001b[39m(\u001b[39mself\u001b[39m, path:\u001b[39m'\u001b[39m\u001b[39mPath\u001b[39m\u001b[39m'\u001b[39m):\n\u001b[0;32m     65\u001b[0m     currentPosition \u001b[39m=\u001b[39m path\u001b[39m.\u001b[39mgetLastPoint()\n\u001b[1;32m---> 66\u001b[0m     possibleActions \u001b[39m=\u001b[39m \u001b[39mself\u001b[39;49m\u001b[39m.\u001b[39;49mmap\u001b[39m.\u001b[39;49mfindPossibleActions(currentPosition)\n\u001b[0;32m     67\u001b[0m     \u001b[39mfor\u001b[39;00m action \u001b[39min\u001b[39;00m possibleActions:\n\u001b[0;32m     68\u001b[0m         \u001b[39m# print('action: %s' %action)\u001b[39;00m\n\u001b[0;32m     69\u001b[0m         \u001b[39m# print('List of Points: %s' % path.getPoints())\u001b[39;00m\n\u001b[0;32m     70\u001b[0m         \u001b[39mif\u001b[39;00m action \u001b[39mnot\u001b[39;00m \u001b[39min\u001b[39;00m path\u001b[39m.\u001b[39mgetPoints():\n",
      "Cell \u001b[1;32mIn[223], line 39\u001b[0m, in \u001b[0;36mWorldMap.findPossibleActions\u001b[1;34m(self, position)\u001b[0m\n\u001b[0;32m     37\u001b[0m possibleSurroundingFields \u001b[39m=\u001b[39m[]\n\u001b[0;32m     38\u001b[0m \u001b[39mfor\u001b[39;00m direction \u001b[39min\u001b[39;00m possibleDirections:\n\u001b[1;32m---> 39\u001b[0m     possibleSurroundingFields\u001b[39m.\u001b[39mappend(np\u001b[39m.\u001b[39;49madd(position,possibleDirections[direction])\u001b[39m.\u001b[39;49mtolist())\n\u001b[0;32m     40\u001b[0m surroundingFields \u001b[39m=\u001b[39m []\n\u001b[0;32m     41\u001b[0m \u001b[39mfor\u001b[39;00m field \u001b[39min\u001b[39;00m possibleSurroundingFields:\n",
      "\u001b[1;31mKeyboardInterrupt\u001b[0m: "
     ]
    }
   ],
   "source": [
    "Karte = WorldMap(deviceInput)\n",
    "Planer = PathPlanner(Karte)\n",
    "Planer.findShortestWay(Karte.findStart(),Karte.findGoal())\n",
    "print(len(Planer.listOfFinishedPaths))\n",
    "Pfade = Planer.getListOfFinishedPaths()\n",
    "print(min([path.getLength() for path in Pfade]))\n",
    "# print([path.getLength() for path in Pfade].index(32))\n",
    "# print(Pfade[0].getLength())\n",
    "# for Pfad in Pfade:\n",
    "    # print(Pfad.getLength())\n",
    "# print(Pfade[0].getPoints())"
   ]
  },
  {
   "cell_type": "code",
   "execution_count": 63,
   "metadata": {},
   "outputs": [
    {
     "data": {
      "text/plain": [
       "False"
      ]
     },
     "execution_count": 63,
     "metadata": {},
     "output_type": "execute_result"
    }
   ],
   "source": [
    "[2,4] in range(0,5)"
   ]
  },
  {
   "cell_type": "code",
   "execution_count": 83,
   "metadata": {},
   "outputs": [
    {
     "data": {
      "text/plain": [
       "[2, 4]"
      ]
     },
     "execution_count": 83,
     "metadata": {},
     "output_type": "execute_result"
    }
   ],
   "source": [
    "list(np.add([1,2],[1,2]))"
   ]
  },
  {
   "cell_type": "code",
   "execution_count": 57,
   "metadata": {},
   "outputs": [
    {
     "ename": "TypeError",
     "evalue": "can only concatenate list (not \"int\") to list",
     "output_type": "error",
     "traceback": [
      "\u001b[1;31m---------------------------------------------------------------------------\u001b[0m",
      "\u001b[1;31mTypeError\u001b[0m                                 Traceback (most recent call last)",
      "Cell \u001b[1;32mIn[57], line 1\u001b[0m\n\u001b[1;32m----> 1\u001b[0m \u001b[39msum\u001b[39;49m([\u001b[39m1\u001b[39;49m,\u001b[39m2\u001b[39;49m],[\u001b[39m1\u001b[39;49m,\u001b[39m2\u001b[39;49m])\n",
      "\u001b[1;31mTypeError\u001b[0m: can only concatenate list (not \"int\") to list"
     ]
    }
   ],
   "source": []
  },
  {
   "cell_type": "code",
   "execution_count": 115,
   "metadata": {},
   "outputs": [
    {
     "data": {
      "text/plain": [
       "83"
      ]
     },
     "execution_count": 115,
     "metadata": {},
     "output_type": "execute_result"
    }
   ],
   "source": [
    "ord('S')"
   ]
  },
  {
   "cell_type": "code",
   "execution_count": 159,
   "metadata": {},
   "outputs": [
    {
     "name": "stdout",
     "output_type": "stream",
     "text": [
      "[[1, 2, 3]]\n",
      "[[1, 2, 3], [2, 3, 1]]\n",
      "[[1, 2, 3], [2, 3, 1], [5, 3, 1]]\n"
     ]
    }
   ],
   "source": [
    "a = [[1,2,3]]\n",
    "print(a)\n",
    "a.append([2,3,1])\n",
    "print(a)\n",
    "a.append([5,3,1])\n",
    "print(a)"
   ]
  },
  {
   "cell_type": "code",
   "execution_count": null,
   "metadata": {},
   "outputs": [],
   "source": []
  }
 ],
 "metadata": {
  "kernelspec": {
   "display_name": "Python 3",
   "language": "python",
   "name": "python3"
  },
  "language_info": {
   "codemirror_mode": {
    "name": "ipython",
    "version": 3
   },
   "file_extension": ".py",
   "mimetype": "text/x-python",
   "name": "python",
   "nbconvert_exporter": "python",
   "pygments_lexer": "ipython3",
   "version": "3.11.1"
  },
  "orig_nbformat": 4,
  "vscode": {
   "interpreter": {
    "hash": "e212872a1340552ab9535abb560bbfb8bc8d044a6c97ace500f46263feb6d5eb"
   }
  }
 },
 "nbformat": 4,
 "nbformat_minor": 2
}
