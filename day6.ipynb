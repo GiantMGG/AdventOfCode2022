{
 "cells": [
  {
   "cell_type": "code",
   "execution_count": 22,
   "metadata": {},
   "outputs": [
    {
     "name": "stdout",
     "output_type": "stream",
     "text": [
      "tzlt\n"
     ]
    }
   ],
   "source": [
    "import re\n",
    "from SolvingAdvent.HelferWichtel import HelferWichtel as Wichtel\n",
    "\n",
    "TAG = '06'\n",
    "\n",
    "Helfer = Wichtel()\n",
    "PuzzleInput = Helfer.getPuzzleInput(TAG)\n",
    "print(PuzzleInput[0][0:4])"
   ]
  },
  {
   "cell_type": "code",
   "execution_count": 33,
   "metadata": {},
   "outputs": [],
   "source": [
    "def findStartOfPacket(DataStreamBuffer:str = '') -> int:\n",
    "    startOfPacket = 4\n",
    "    lastFourChars = DataStreamBuffer[startOfPacket-4:startOfPacket]\n",
    "    while (len(''.join(set(lastFourChars)&set(lastFourChars))) != 4)&(startOfPacket <= len(DataStreamBuffer)):\n",
    "        startOfPacket +=1\n",
    "        lastFourChars = DataStreamBuffer[startOfPacket-4:startOfPacket]\n",
    "    if startOfPacket <= len(DataStreamBuffer):\n",
    "        return startOfPacket\n",
    "    else:\n",
    "        raise Exception('Kein Marker Gefunden!')\n",
    "\n",
    "def findStartOfMessage(DataStreamBuffer:str = '') -> int:\n",
    "    startOfMessage = 14\n",
    "    lastFourteenChars = DataStreamBuffer[startOfMessage-14:startOfMessage]\n",
    "    while (len(''.join(set(lastFourteenChars)&set(lastFourteenChars))) != 14)&(startOfMessage <= len(DataStreamBuffer)):\n",
    "        startOfMessage +=1\n",
    "        lastFourteenChars = DataStreamBuffer[startOfMessage-14:startOfMessage]\n",
    "    if startOfMessage <= len(DataStreamBuffer):\n",
    "        return startOfMessage\n",
    "    else:\n",
    "        raise Exception('Keine Nachricht gefunden')"
   ]
  },
  {
   "cell_type": "code",
   "execution_count": 26,
   "metadata": {},
   "outputs": [
    {
     "name": "stdout",
     "output_type": "stream",
     "text": [
      "True\n",
      "True\n",
      "True\n",
      "True\n"
     ]
    }
   ],
   "source": [
    "# Test Input A\n",
    "print(findStartOfPacket('bvwbjplbgvbhsrlpgdmjqwftvncz') == 5)\n",
    "print(findStartOfPacket('nppdvjthqldpwncqszvftbrmjlhg') == 6)\n",
    "print(findStartOfPacket('nznrnfrfntjfmvfwmzdfjlvtqnbhcprsg') == 10)\n",
    "print(findStartOfPacket('zcfzfwzzqfrljwzlrfnpqdbhtmscgvjw') == 11)"
   ]
  },
  {
   "cell_type": "code",
   "execution_count": 35,
   "metadata": {},
   "outputs": [
    {
     "name": "stdout",
     "output_type": "stream",
     "text": [
      "True\n",
      "True\n",
      "True\n",
      "True\n",
      "True\n"
     ]
    }
   ],
   "source": [
    "# Test Input B\n",
    "print(findStartOfMessage('mjqjpqmgbljsphdztnvjfqwrcgsmlb') == 19)\n",
    "print(findStartOfMessage('bvwbjplbgvbhsrlpgdmjqwftvncz') == 23)\n",
    "print(findStartOfMessage('nppdvjthqldpwncqszvftbrmjlhg') == 23)\n",
    "print(findStartOfMessage('nznrnfrfntjfmvfwmzdfjlvtqnbhcprsg') == 29)\n",
    "print(findStartOfMessage('zcfzfwzzqfrljwzlrfnpqdbhtmscgvjw') == 26)"
   ]
  },
  {
   "cell_type": "code",
   "execution_count": 36,
   "metadata": {},
   "outputs": [
    {
     "name": "stdout",
     "output_type": "stream",
     "text": [
      "Antwort von Tag 6A ist: 1766\n",
      "Antwort von Tag 6A ist: 2383\n"
     ]
    }
   ],
   "source": [
    "# Answer for 6A\n",
    "print('Antwort von Tag 6A ist: %s' %findStartOfPacket(PuzzleInput[0]))\n",
    "\n",
    "# Answer for 6B\n",
    "print('Antwort von Tag 6A ist: %s' %findStartOfMessage(PuzzleInput[0]))"
   ]
  }
 ],
 "metadata": {
  "kernelspec": {
   "display_name": "Python 3",
   "language": "python",
   "name": "python3"
  },
  "language_info": {
   "codemirror_mode": {
    "name": "ipython",
    "version": 3
   },
   "file_extension": ".py",
   "mimetype": "text/x-python",
   "name": "python",
   "nbconvert_exporter": "python",
   "pygments_lexer": "ipython3",
   "version": "3.11.1"
  },
  "orig_nbformat": 4,
  "vscode": {
   "interpreter": {
    "hash": "a430bdd78cabb0319c021e4bed8a7f8a17d1ee4cfda3ab2cdd64c9dbb9e027b6"
   }
  }
 },
 "nbformat": 4,
 "nbformat_minor": 2
}
