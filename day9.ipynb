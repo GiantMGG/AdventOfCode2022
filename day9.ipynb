{
 "cells": [
  {
   "cell_type": "code",
   "execution_count": 35,
   "metadata": {},
   "outputs": [
    {
     "name": "stdout",
     "output_type": "stream",
     "text": [
      "['R4', 'U4', 'L3', 'D1', 'R4', 'D1', 'L5', 'R2']\n",
      "['U']\n",
      "[1 2 3]\n",
      "[0 1 2 3 4]\n"
     ]
    }
   ],
   "source": [
    "import re\n",
    "import numpy as np\n",
    "from SolvingAdvent.HelferWichtel import HelferWichtel as Wichtel\n",
    "\n",
    "TagFile = '09Test'\n",
    "\n",
    "\n",
    "Helfer = Wichtel()\n",
    "PuzzleInput = ''.join(Helfer.getPuzzleInput(TagFile))\n",
    "PuzzleInput = [line.replace(' ','') for line in PuzzleInput.split('\\n')]\n",
    "print([line.replace(' ','') for line in PuzzleInput])\n",
    "print(re.findall('\\D',PuzzleInput[1]))"
   ]
  },
  {
   "cell_type": "code",
   "execution_count": 149,
   "metadata": {},
   "outputs": [],
   "source": [
    "class World:\n",
    "    def __init__(self):\n",
    "        xvalues = np.arange(-5,5)\n",
    "        yvalues = np.arange(5,-5,-1)\n",
    "        self.xx, self.yy = np.meshgrid(xvalues,yvalues)\n",
    "        self.headPosition = [0,0]\n",
    "        self.tailPosition = [0,0]\n",
    "        self.tailHistory = np.array([[0],[0]])\n",
    "        \n",
    "    def getWorld(self):\n",
    "        return self.xx, self.yy\n",
    "    \n",
    "    def extendMapNorth(self):\n",
    "        self.xx = np.vstack([self.xx[0],self.xx])\n",
    "        self.yy = np.vstack([self.yy[0]+1,self.yy])\n",
    "        \n",
    "    def extendMapEast(self):\n",
    "        self.xx = np.hstack([self.xx, np.transpose([self.xx[:,-1]+1])])\n",
    "        self.yy = np.hstack([self.yy, np.transpose([self.yy[:,-1]])])\n",
    "        \n",
    "    def extendMapSouth(self):\n",
    "        self.xx = np.vstack([self.xx, self.xx[-1]])\n",
    "        self.yy = np.vstack([self.yy, self.yy[-1]-1])\n",
    "        \n",
    "    def extendMapWest(self):\n",
    "        self.xx = np.hstack([np.transpose([self.xx[:,0]-1]), self.xx])\n",
    "        self.yy = np.hstack([np.transpose([self.yy[:,0]]), self.yy])\n",
    "        \n",
    "    def \n",
    "\n"
   ]
  },
  {
   "cell_type": "code",
   "execution_count": 151,
   "metadata": {},
   "outputs": [
    {
     "name": "stdout",
     "output_type": "stream",
     "text": [
      "[[ 5  5  5  5  5  5  5  5  5  5]\n",
      " [ 4  4  4  4  4  4  4  4  4  4]\n",
      " [ 3  3  3  3  3  3  3  3  3  3]\n",
      " [ 2  2  2  2  2  2  2  2  2  2]\n",
      " [ 1  1  1  1  1  1  1  1  1  1]\n",
      " [ 0  0  0  0  0  0  0  0  0  0]\n",
      " [-1 -1 -1 -1 -1 -1 -1 -1 -1 -1]\n",
      " [-2 -2 -2 -2 -2 -2 -2 -2 -2 -2]\n",
      " [-3 -3 -3 -3 -3 -3 -3 -3 -3 -3]\n",
      " [-4 -4 -4 -4 -4 -4 -4 -4 -4 -4]]\n",
      "[[ 5  5  5  5  5  5  5  5  5  5  5]\n",
      " [ 4  4  4  4  4  4  4  4  4  4  4]\n",
      " [ 3  3  3  3  3  3  3  3  3  3  3]\n",
      " [ 2  2  2  2  2  2  2  2  2  2  2]\n",
      " [ 1  1  1  1  1  1  1  1  1  1  1]\n",
      " [ 0  0  0  0  0  0  0  0  0  0  0]\n",
      " [-1 -1 -1 -1 -1 -1 -1 -1 -1 -1 -1]\n",
      " [-2 -2 -2 -2 -2 -2 -2 -2 -2 -2 -2]\n",
      " [-3 -3 -3 -3 -3 -3 -3 -3 -3 -3 -3]\n",
      " [-4 -4 -4 -4 -4 -4 -4 -4 -4 -4 -4]]\n"
     ]
    }
   ],
   "source": [
    "# Class Testing\n",
    "newWorld = World()\n",
    "xx, yy = newWorld.getWorld()\n",
    "print(yy)\n",
    "newWorld.extendMapWest()\n",
    "xx,yy = newWorld.getWorld()\n",
    "print(yy)"
   ]
  },
  {
   "cell_type": "code",
   "execution_count": 128,
   "metadata": {},
   "outputs": [
    {
     "name": "stdout",
     "output_type": "stream",
     "text": [
      "[[-5 -4 -3 -2 -1  0  1  2  3  4]\n",
      " [-5 -4 -3 -2 -1  0  1  2  3  4]\n",
      " [-5 -4 -3 -2 -1  0  1  2  3  4]\n",
      " [-5 -4 -3 -2 -1  0  1  2  3  4]\n",
      " [-5 -4 -3 -2 -1  0  1  2  3  4]\n",
      " [-5 -4 -3 -2 -1  0  1  2  3  4]\n",
      " [-5 -4 -3 -2 -1  0  1  2  3  4]\n",
      " [-5 -4 -3 -2 -1  0  1  2  3  4]\n",
      " [-5 -4 -3 -2 -1  0  1  2  3  4]\n",
      " [-5 -4 -3 -2 -1  0  1  2  3  4]]\n",
      "[[-4 -3 -2 -1  0  1  2  3  4  5]\n",
      " [-5 -4 -3 -2 -1  0  1  2  3  4]\n",
      " [-5 -4 -3 -2 -1  0  1  2  3  4]\n",
      " [-5 -4 -3 -2 -1  0  1  2  3  4]\n",
      " [-5 -4 -3 -2 -1  0  1  2  3  4]\n",
      " [-5 -4 -3 -2 -1  0  1  2  3  4]\n",
      " [-5 -4 -3 -2 -1  0  1  2  3  4]\n",
      " [-5 -4 -3 -2 -1  0  1  2  3  4]\n",
      " [-5 -4 -3 -2 -1  0  1  2  3  4]\n",
      " [-5 -4 -3 -2 -1  0  1  2  3  4]\n",
      " [-5 -4 -3 -2 -1  0  1  2  3  4]]\n"
     ]
    }
   ],
   "source": [
    "xvalues = np.arange(-5,5)\n",
    "yvalues = np.arange(-5,5)\n",
    "xx,yy = np.meshgrid(xvalues,yvalues)\n",
    "print(xx)\n",
    "xx = np.vstack([([xx[0]+1]),xx])\n",
    "print(xx)\n"
   ]
  },
  {
   "cell_type": "code",
   "execution_count": 139,
   "metadata": {},
   "outputs": [
    {
     "name": "stdout",
     "output_type": "stream",
     "text": [
      "[5 4 4 4 4 4 4 4 4 4 4]\n",
      "[[-4 -3 -2 -1  0  1  2  3  4  5]\n",
      " [-5 -4 -3 -2 -1  0  1  2  3  4]\n",
      " [-5 -4 -3 -2 -1  0  1  2  3  4]\n",
      " [-5 -4 -3 -2 -1  0  1  2  3  4]\n",
      " [-5 -4 -3 -2 -1  0  1  2  3  4]\n",
      " [-5 -4 -3 -2 -1  0  1  2  3  4]\n",
      " [-5 -4 -3 -2 -1  0  1  2  3  4]\n",
      " [-5 -4 -3 -2 -1  0  1  2  3  4]\n",
      " [-5 -4 -3 -2 -1  0  1  2  3  4]\n",
      " [-5 -4 -3 -2 -1  0  1  2  3  4]\n",
      " [-5 -4 -3 -2 -1  0  1  2  3  4]]\n",
      "[5 4 4 4 4 4 4 4 4 4 4]\n"
     ]
    }
   ],
   "source": [
    "print(xx[:,-1])\n",
    "print(xx)\n",
    "print(xx[:,-1])"
   ]
  },
  {
   "cell_type": "code",
   "execution_count": 153,
   "metadata": {},
   "outputs": [
    {
     "name": "stdout",
     "output_type": "stream",
     "text": [
      "[[1 1]\n",
      " [1 2]]\n"
     ]
    }
   ],
   "source": [
    "print(np.array([[1,1],[1,2]]))"
   ]
  },
  {
   "cell_type": "code",
   "execution_count": null,
   "metadata": {},
   "outputs": [],
   "source": []
  }
 ],
 "metadata": {
  "kernelspec": {
   "display_name": "pyenv",
   "language": "python",
   "name": "python3"
  },
  "language_info": {
   "codemirror_mode": {
    "name": "ipython",
    "version": 3
   },
   "file_extension": ".py",
   "mimetype": "text/x-python",
   "name": "python",
   "nbconvert_exporter": "python",
   "pygments_lexer": "ipython3",
   "version": "3.10.0"
  },
  "orig_nbformat": 4,
  "vscode": {
   "interpreter": {
    "hash": "d0c3d4aaaf6ccd9e3fef41017d298d05c7cebe4005ad2bf55ceed44b42e0013b"
   }
  }
 },
 "nbformat": 4,
 "nbformat_minor": 2
}
