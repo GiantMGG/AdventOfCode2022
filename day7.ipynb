{
 "cells": [
  {
   "cell_type": "code",
   "execution_count": 1,
   "metadata": {},
   "outputs": [],
   "source": [
    "import re\n",
    "from SolvingAdvent.HelferWichtel import HelferWichtel as Wichtel\n",
    "\n",
    "TagFile = '07'\n",
    "TestFile = '07Test'\n",
    "\n",
    "Helfer = Wichtel()\n",
    "PuzzleInput = Helfer.getPuzzleInput(TagFile)\n",
    "TestInput = Helfer.getPuzzleInput(TestFile)\n"
   ]
  },
  {
   "cell_type": "code",
   "execution_count": 5,
   "metadata": {},
   "outputs": [],
   "source": [
    "class FileTree():\n",
    "    def __init__(self):\n",
    "        pass\n",
    "\n",
    "class Directory():\n",
    "    def __init__(self,name:str = '', children:list['Directory'] = [], files:list['Files'] = []):\n",
    "        self.name = name\n",
    "        self.children = children\n",
    "        self.files = files\n",
    "        pass\n",
    "\n",
    "    def addSubDirectory(self,NewSubDirectory:'Directory'):\n",
    "        self.children.append(NewSubDirectory)\n",
    "        pass\n",
    "\n",
    "    def addFile(self,NewFile:'Files'):\n",
    "        self.files.append(NewFile)\n",
    "        pass\n",
    "\n",
    "    \n",
    "\n",
    "class Files():\n",
    "    def __init__(self, name:str = '', size:int = 0):\n",
    "        self.name = name\n",
    "        self.size = size\n",
    "        pass"
   ]
  },
  {
   "cell_type": "code",
   "execution_count": 29,
   "metadata": {},
   "outputs": [],
   "source": [
    "class Nodes():\n",
    "    types = {'dir','file'}\n",
    "    \n",
    "    def __init__(self, name:str = '', type:str='dir', size:int = 0, children:list['Nodes'] = [],parent:'Nodes' = None):\n",
    "        self.name = name\n",
    "        self.parent = parent\n",
    "        self.type = type\n",
    "        self.size = size\n",
    "        self.children = children\n",
    "        pass\n",
    "\n",
    "    def addChild(self,NewNode:'Nodes'):\n",
    "        self.children.append(NewNode)\n",
    "\n",
    "    def getAllChildren(self) -> list['Nodes']:\n",
    "        return self.children\n",
    "\n",
    "    def getParent(self) -> 'Nodes':\n",
    "        return self.parent\n",
    "\n",
    "    def getName(self) -> str:\n",
    "        return self.name\n",
    "\n",
    "    def getSize(self) -> int:\n",
    "        return self.size\n",
    "\n",
    "    def getType(self) -> str:\n",
    "        return self.type\n",
    "\n",
    "    def getAllChildrenNames(self) ->list[str]:\n",
    "        childrenList = []\n",
    "        for child in self.children:\n",
    "            childrenList.append(child.getName())\n",
    "        return childrenList\n",
    "\n",
    "\n",
    "class TreeCrawler():\n",
    "    def __init__(self):\n",
    "        self.activeNode = Nodes('root', 'dir')\n",
    "        pass\n",
    "\n",
    "    def getActiveNode(self):\n",
    "        return self.activeNode\n",
    "\n",
    "    def moveToParent(self):\n",
    "        if self.activeNode.getName() == 'root':\n",
    "            print('You are in root already')\n",
    "        else:\n",
    "            self.activeNode = self.activeNode.getParent()\n",
    "\n",
    "    def moveToChild(self,childNode):\n",
    "        if childNode.getType() == 'file':\n",
    "            raise Exception('Child is File and not Dir')\n",
    "        else:\n",
    "            self.activeNode = childNode\n",
    "\n",
    "    def listAllSubDir(self):\n",
    "        pass\n",
    "\n",
    "    def listAllFiles(self):\n",
    "        files = []\n",
    "        for child in self.activeNode.getAllChildren():\n",
    "            if child.getType() == 'file':\n",
    "                files.append(child)\n",
    "        return files\n",
    "\n",
    "    def listAllSubDirs(self):\n",
    "        dirs = []\n",
    "        for child in self.activeNode.getAllChildren():\n",
    "            if child.getType() == 'dir':\n",
    "                dirs.append(child)\n",
    "        return dirs\n",
    "\n",
    "    def createFile(self, fileName, fileSize):\n",
    "        # if for file in self.listAllFiles()\n",
    "        pass"
   ]
  },
  {
   "cell_type": "code",
   "execution_count": 26,
   "metadata": {},
   "outputs": [
    {
     "data": {
      "text/plain": [
       "['test', 'te2st']"
      ]
     },
     "execution_count": 26,
     "metadata": {},
     "output_type": "execute_result"
    }
   ],
   "source": [
    "root = Nodes('root','dir',0,[])\n",
    "root.addChild(Nodes('test'))\n",
    "root.addChild(Nodes('te2st'))\n",
    "root.getAllChildrenNames()"
   ]
  },
  {
   "cell_type": "code",
   "execution_count": 36,
   "metadata": {},
   "outputs": [],
   "source": [
    "#Test Input\n",
    "\n",
    "types = {'dir','file'}\n"
   ]
  },
  {
   "cell_type": "code",
   "execution_count": 38,
   "metadata": {},
   "outputs": [
    {
     "ename": "TypeError",
     "evalue": "'set' object is not subscriptable",
     "output_type": "error",
     "traceback": [
      "\u001b[1;31m---------------------------------------------------------------------------\u001b[0m",
      "\u001b[1;31mTypeError\u001b[0m                                 Traceback (most recent call last)",
      "Cell \u001b[1;32mIn[38], line 1\u001b[0m\n\u001b[1;32m----> 1\u001b[0m types[\u001b[39m0\u001b[39;49m]\n",
      "\u001b[1;31mTypeError\u001b[0m: 'set' object is not subscriptable"
     ]
    }
   ],
   "source": [
    "types[0]"
   ]
  },
  {
   "cell_type": "code",
   "execution_count": null,
   "metadata": {},
   "outputs": [],
   "source": []
  }
 ],
 "metadata": {
  "kernelspec": {
   "display_name": "Python 3",
   "language": "python",
   "name": "python3"
  },
  "language_info": {
   "codemirror_mode": {
    "name": "ipython",
    "version": 3
   },
   "file_extension": ".py",
   "mimetype": "text/x-python",
   "name": "python",
   "nbconvert_exporter": "python",
   "pygments_lexer": "ipython3",
   "version": "3.11.1"
  },
  "orig_nbformat": 4,
  "vscode": {
   "interpreter": {
    "hash": "a430bdd78cabb0319c021e4bed8a7f8a17d1ee4cfda3ab2cdd64c9dbb9e027b6"
   }
  }
 },
 "nbformat": 4,
 "nbformat_minor": 2
}
